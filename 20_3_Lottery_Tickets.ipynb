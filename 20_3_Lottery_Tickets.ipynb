{
  "nbformat": 4,
  "nbformat_minor": 0,
  "metadata": {
    "colab": {
      "provenance": []
    },
    "kernelspec": {
      "name": "python3",
      "display_name": "Python 3"
    }
  },
  "cells": [
    {
      "cell_type": "markdown",
      "metadata": {
        "id": "view-in-github"
      },
      "source": [
        "<a href=\"https://colab.research.google.com/github/udlbook/udlbook/blob/main/Notebooks/Chap20/20_3_Lottery_Tickets.ipynb\" target=\"_parent\"><img src=\"https://colab.research.google.com/assets/colab-badge.svg\" alt=\"Open In Colab\"/></a>"
      ]
    },
    {
      "cell_type": "markdown",
      "metadata": {
        "id": "dKUcDM76bHx3"
      },
      "source": [
        "# **Notebook 20.3: Lottery tickets**\n",
        "\n",
        "This notebook investigates the phenomenon of lottery tickets as discussed in section 20.2.7.  This notebook is highly derivative of the MNIST-1D code hosted by Sam Greydanus at https://github.com/greydanus/mnist1d.   \n",
        "\n",
        "Work through the cells below, running each cell in turn. In various places you will see the words \"TO DO\". Follow the instructions at these places and make predictions about what is going to happen or write code to complete the functions.\n",
        "\n",
        "Contact me at udlbookmail@gmail.com if you find any mistakes or have any suggestions."
      ]
    },
    {
      "cell_type": "code",
      "metadata": {
        "id": "Sg2i1QmhKW5d",
        "colab": {
          "base_uri": "https://localhost:8080/"
        },
        "outputId": "7854fb43-d4b5-4034-8a95-8dd214d6aad1"
      },
      "source": [
        "# Run this if you're in a Colab to install MNIST 1D repository\n",
        "!pip install git+https://github.com/greydanus/mnist1d\n",
        "!git clone https://github.com/greydanus/mnist1d"
      ],
      "execution_count": 1,
      "outputs": [
        {
          "output_type": "stream",
          "name": "stdout",
          "text": [
            "Collecting git+https://github.com/greydanus/mnist1d\n",
            "  Cloning https://github.com/greydanus/mnist1d to /tmp/pip-req-build-uuk1w4f0\n",
            "  Running command git clone --filter=blob:none --quiet https://github.com/greydanus/mnist1d /tmp/pip-req-build-uuk1w4f0\n",
            "  Resolved https://github.com/greydanus/mnist1d to commit dc46206f1e1ad7249c96e3042efca0955a6b5d35\n",
            "  Installing build dependencies ... \u001b[?25l\u001b[?25hdone\n",
            "  Getting requirements to build wheel ... \u001b[?25l\u001b[?25hdone\n",
            "  Preparing metadata (pyproject.toml) ... \u001b[?25l\u001b[?25hdone\n",
            "Requirement already satisfied: requests in /usr/local/lib/python3.10/dist-packages (from mnist1d==0.0.2.post10) (2.32.3)\n",
            "Requirement already satisfied: numpy in /usr/local/lib/python3.10/dist-packages (from mnist1d==0.0.2.post10) (1.26.4)\n",
            "Requirement already satisfied: matplotlib in /usr/local/lib/python3.10/dist-packages (from mnist1d==0.0.2.post10) (3.7.1)\n",
            "Requirement already satisfied: scipy in /usr/local/lib/python3.10/dist-packages (from mnist1d==0.0.2.post10) (1.13.1)\n",
            "Requirement already satisfied: contourpy>=1.0.1 in /usr/local/lib/python3.10/dist-packages (from matplotlib->mnist1d==0.0.2.post10) (1.2.1)\n",
            "Requirement already satisfied: cycler>=0.10 in /usr/local/lib/python3.10/dist-packages (from matplotlib->mnist1d==0.0.2.post10) (0.12.1)\n",
            "Requirement already satisfied: fonttools>=4.22.0 in /usr/local/lib/python3.10/dist-packages (from matplotlib->mnist1d==0.0.2.post10) (4.53.1)\n",
            "Requirement already satisfied: kiwisolver>=1.0.1 in /usr/local/lib/python3.10/dist-packages (from matplotlib->mnist1d==0.0.2.post10) (1.4.5)\n",
            "Requirement already satisfied: packaging>=20.0 in /usr/local/lib/python3.10/dist-packages (from matplotlib->mnist1d==0.0.2.post10) (24.1)\n",
            "Requirement already satisfied: pillow>=6.2.0 in /usr/local/lib/python3.10/dist-packages (from matplotlib->mnist1d==0.0.2.post10) (9.4.0)\n",
            "Requirement already satisfied: pyparsing>=2.3.1 in /usr/local/lib/python3.10/dist-packages (from matplotlib->mnist1d==0.0.2.post10) (3.1.2)\n",
            "Requirement already satisfied: python-dateutil>=2.7 in /usr/local/lib/python3.10/dist-packages (from matplotlib->mnist1d==0.0.2.post10) (2.8.2)\n",
            "Requirement already satisfied: charset-normalizer<4,>=2 in /usr/local/lib/python3.10/dist-packages (from requests->mnist1d==0.0.2.post10) (3.3.2)\n",
            "Requirement already satisfied: idna<4,>=2.5 in /usr/local/lib/python3.10/dist-packages (from requests->mnist1d==0.0.2.post10) (3.7)\n",
            "Requirement already satisfied: urllib3<3,>=1.21.1 in /usr/local/lib/python3.10/dist-packages (from requests->mnist1d==0.0.2.post10) (2.0.7)\n",
            "Requirement already satisfied: certifi>=2017.4.17 in /usr/local/lib/python3.10/dist-packages (from requests->mnist1d==0.0.2.post10) (2024.7.4)\n",
            "Requirement already satisfied: six>=1.5 in /usr/local/lib/python3.10/dist-packages (from python-dateutil>=2.7->matplotlib->mnist1d==0.0.2.post10) (1.16.0)\n",
            "Building wheels for collected packages: mnist1d\n",
            "  Building wheel for mnist1d (pyproject.toml) ... \u001b[?25l\u001b[?25hdone\n",
            "  Created wheel for mnist1d: filename=mnist1d-0.0.2.post10-py3-none-any.whl size=14564 sha256=bbac42d433b0447dcccb7b83f6727a28adf31cb2fb639ee03eed0bc3c791eba4\n",
            "  Stored in directory: /tmp/pip-ephem-wheel-cache-7qc1q6rx/wheels/41/95/55/45fcf7d38cfa97e35682da6c5017d4513729131326ce935371\n",
            "Successfully built mnist1d\n",
            "Installing collected packages: mnist1d\n",
            "Successfully installed mnist1d-0.0.2.post10\n",
            "Cloning into 'mnist1d'...\n",
            "remote: Enumerating objects: 529, done.\u001b[K\n",
            "remote: Counting objects: 100% (148/148), done.\u001b[K\n",
            "remote: Compressing objects: 100% (80/80), done.\u001b[K\n",
            "remote: Total 529 (delta 93), reused 104 (delta 66), pack-reused 381 (from 1)\u001b[K\n",
            "Receiving objects: 100% (529/529), 14.92 MiB | 19.97 MiB/s, done.\n",
            "Resolving deltas: 100% (246/246), done.\n"
          ]
        }
      ]
    },
    {
      "cell_type": "markdown",
      "source": [
        "# Lottery tickets\n",
        "\n",
        "Lottery tickets were first identified by [Frankle and Carbin (2018)](https://arxiv.org/abs/1803.03635).  They noted that after training a network, they could set the smaller weights to zero and clamp them there and retrain to get a network that was sparser (had fewer parameters) but could actually perform better.  So within the neural network there lie smaller sub-networks which are superior.  If we knew what these were, we could train them from scratch, but there is currently no way of finding out."
      ],
      "metadata": {
        "id": "97g8gY5XdcKR"
      }
    },
    {
      "cell_type": "code",
      "metadata": {
        "id": "KaQo7QhvXvid"
      },
      "source": [
        "import numpy as np\n",
        "import matplotlib.pyplot as plt\n",
        "\n",
        "import torch\n",
        "import torch.nn as nn\n",
        "import torch.nn.functional as F\n",
        "import torch.optim as optim\n",
        "\n",
        "import mnist1d\n",
        "import copy"
      ],
      "execution_count": 2,
      "outputs": []
    },
    {
      "cell_type": "markdown",
      "metadata": {
        "id": "nre26wEOfZsM"
      },
      "source": [
        "## Get the MNIST1D dataset"
      ]
    },
    {
      "cell_type": "code",
      "metadata": {
        "id": "I-vm_gh5xTJs",
        "colab": {
          "base_uri": "https://localhost:8080/"
        },
        "outputId": "9fbfda62-bf63-4455-e69c-244bf18877c5"
      },
      "source": [
        "from mnist1d.data import get_dataset, get_dataset_args\n",
        "from mnist1d.utils import set_seed, to_pickle, from_pickle\n",
        "\n",
        "import sys ; sys.path.append('./mnist1d/notebooks')\n",
        "from train import get_model_args, train_model\n",
        "\n",
        "args = mnist1d.get_dataset_args()\n",
        "data = mnist1d.get_dataset(args=args)  # by default, this will download a pre-made dataset from the GitHub repo\n",
        "\n",
        "print(\"Examples in training set: {}\".format(len(data['y'])))\n",
        "print(\"Examples in test set: {}\".format(len(data['y_test'])))\n",
        "print(\"Length of each input: {}\".format(data['x'].shape[-1]))\n",
        "print(\"Number of classes: {}\".format(len(data['templates']['y'])))"
      ],
      "execution_count": 3,
      "outputs": [
        {
          "output_type": "stream",
          "name": "stdout",
          "text": [
            "Downloading MNIST1D dataset from https://github.com/greydanus/mnist1d/raw/master/mnist1d_data.pkl\n",
            "Saving to ./mnist1d_data.pkl\n",
            "Successfully loaded data from ./mnist1d_data.pkl\n",
            "Examples in training set: 4000\n",
            "Examples in test set: 1000\n",
            "Length of each input: 40\n",
            "Number of classes: 10\n"
          ]
        }
      ]
    },
    {
      "cell_type": "markdown",
      "metadata": {
        "id": "O2vy0FKjfDwr"
      },
      "source": [
        "## Make an MLP that can be masked\n",
        "These parameter-wise binary masks are how we will represent sparsity in this project. There's not a great PyTorch API for this yet, so here's a temporary solution."
      ]
    },
    {
      "cell_type": "code",
      "metadata": {
        "id": "uBx5gNW-mqH_"
      },
      "source": [
        "# Class to represent linear layer where some of the weights are forced to zero.\n",
        "class SparseLinear(torch.nn.Module):\n",
        "  def __init__(self, x_size, y_size):\n",
        "    super(SparseLinear, self).__init__()\n",
        "    self.linear = torch.nn.Linear(x_size, y_size)\n",
        "    param_vec = torch.cat([p.flatten() for p in self.parameters()])\n",
        "    self.mask = torch.ones_like(param_vec)\n",
        "\n",
        "  def forward(self, x, apply_mask=True):\n",
        "    if apply_mask:\n",
        "      self.apply_mask()\n",
        "    return self.linear(x)\n",
        "\n",
        "  def update_mask(self, new_mask):\n",
        "    self.mask = new_mask\n",
        "    self.apply_mask()\n",
        "\n",
        "  def apply_mask(self):\n",
        "    self.vec2param(self.param2vec())\n",
        "\n",
        "  def param2vec(self):\n",
        "    vec = torch.cat([p.flatten() for p in self.parameters()])\n",
        "    return self.mask * vec\n",
        "\n",
        "  def vec2param(self, vec):\n",
        "    pointer = 0\n",
        "    for param in self.parameters():\n",
        "      param_len = np.cumprod(param.shape)[-1]\n",
        "      new_param = vec[pointer:pointer+param_len].reshape(param.shape)\n",
        "      param.data = new_param.data\n",
        "      pointer += param_len\n",
        "\n",
        "# A two layer residual network where the linear layers are sparse\n",
        "class SparseMLP(torch.nn.Module):\n",
        "  def __init__(self, input_size, output_size, hidden_size=100):\n",
        "    super(SparseMLP, self).__init__()\n",
        "    self.linear1 = SparseLinear(input_size, hidden_size)\n",
        "    self.linear2 = SparseLinear(hidden_size, hidden_size)\n",
        "    self.linear3 = SparseLinear(hidden_size, output_size)\n",
        "    self.layers = [self.linear1, self.linear2, self.linear3]\n",
        "\n",
        "  def forward(self, x):\n",
        "    h = torch.relu(self.linear1(x))\n",
        "    h = h + torch.relu(self.linear2(h))\n",
        "    h = self.linear3(h)\n",
        "    return h\n",
        "\n",
        "  def get_layer_masks(self):\n",
        "    return [l.mask for l in self.layers]\n",
        "\n",
        "  def set_layer_masks(self, new_masks):\n",
        "    for i, l in enumerate(self.layers):\n",
        "      l.update_mask(new_masks[i])\n",
        "\n",
        "  def get_layer_vecs(self):\n",
        "    return [l.param2vec() for l in self.layers]\n",
        "\n",
        "  def set_layer_vecs(self, vecs):\n",
        "    for i, l in enumerate(self.layers):\n",
        "      l.vec2param(vecs[i])"
      ],
      "execution_count": 4,
      "outputs": []
    },
    {
      "cell_type": "markdown",
      "metadata": {
        "id": "2hwmH2vIbHin"
      },
      "source": [
        "Now we need a routine that takes the weights from the model and returns a mask that identifies the positions with the lowest magnitude.  These will be the weights that we mask."
      ]
    },
    {
      "cell_type": "code",
      "metadata": {
        "id": "Md2F9WDgYSqT"
      },
      "source": [
        "# absolute weights -- absolute values of all the weights from the model in a long vector\n",
        "# percent_sparse: how much to sparsify the model\n",
        "def get_mask(absolute_weights, percent_sparse):\n",
        "  # TODO -- Write a function that returns a mask that has a zero\n",
        "  # everywhere for the lowest \"percent_sparse\" of the absolute weights.\n",
        "  # E.g. if absolute_weights contains [5,6,0,1,7] and we want percent_sparse of 40%,\n",
        "  # we would return [1,1,0,0,1]\n",
        "  # Remember that these are torch tensors and not numpy arrays\n",
        "  # Replace this function:\n",
        "  num_weights = len(absolute_weights)\n",
        "  num_to_mask = int(num_weights * percent_sparse / 100)\n",
        "\n",
        "  # Sort the absolute weights\n",
        "  sorted_weights, _ = torch.sort(absolute_weights)\n",
        "\n",
        "  # Find the threshold value\n",
        "  threshold = sorted_weights[num_to_mask]\n",
        "\n",
        "  # Create the mask\n",
        "  mask = (absolute_weights > threshold).float()\n",
        "\n",
        "\n",
        "\n",
        "  return mask"
      ],
      "execution_count": 5,
      "outputs": []
    },
    {
      "cell_type": "markdown",
      "metadata": {
        "id": "z0McGMV-a3Xo"
      },
      "source": [
        "## The prune-and-retrain cycle\n",
        "This is the core method for finding a lottery ticket. We train a model for a fixed number of epochs, prune it, and then re-train and re-prune. We repeat this cycle until we achieve the desired level of sparsity."
      ]
    },
    {
      "cell_type": "code",
      "metadata": {
        "id": "5idcbyA3Ylz_"
      },
      "source": [
        "def find_lottery_ticket(model, dataset, args, sparsity_schedule, criteria_fn=None, **kwargs):\n",
        "\n",
        "  criteria_fn = lambda init_params, final_params: final_params.abs()\n",
        "  init_params = model.get_layer_vecs()\n",
        "  stats = {'train_losses':[], 'test_losses':[], 'train_accs':[], 'test_accs':[]}\n",
        "  models = []\n",
        "  for i, percent_sparse in enumerate(sparsity_schedule):\n",
        "\n",
        "    # layer-wise pruning, where pruning heuristic is determined by criteria_fn\n",
        "    final_params = model.get_layer_vecs()\n",
        "    scores = [criteria_fn(ip, fp) for ip, fp in zip(init_params, final_params)]\n",
        "    masks = [get_mask(s, percent_sparse) for s in scores]\n",
        "\n",
        "    # update model with mask and init parameters\n",
        "    model.set_layer_vecs(init_params)\n",
        "    model.set_layer_masks(masks)\n",
        "\n",
        "    # training process\n",
        "    results = train_model(dataset, model, args)\n",
        "    model = results['checkpoints'][-1]\n",
        "\n",
        "    # store stats\n",
        "    stats['train_losses'].append(results['train_losses'])\n",
        "    stats['test_losses'].append(results['test_losses'])\n",
        "    stats['train_accs'].append(results['train_acc'])\n",
        "    stats['test_accs'].append(results['test_acc'])\n",
        "\n",
        "    # print progress\n",
        "    if (i+1) % 1 == 0:\n",
        "      print('\\tretrain #{}, sparsity {:.2f}, final_train_loss {:.3e}, max_acc {:.1f}, last_acc {:.1f}, mean_acc {:.1f}'\n",
        "            .format(i+1, percent_sparse, results['train_losses'][-1], np.max(results['test_acc']),\n",
        "            results['test_acc'][-1], np.mean(results['test_acc']) ))\n",
        "      models.append(copy.deepcopy(model))\n",
        "\n",
        "  stats = {k: np.stack(v) for k, v in stats.items()}\n",
        "  return models, stats"
      ],
      "execution_count": 6,
      "outputs": []
    },
    {
      "cell_type": "markdown",
      "metadata": {
        "id": "m4lokvdD4DKI"
      },
      "source": [
        "## Choose hyperparameters"
      ]
    },
    {
      "cell_type": "code",
      "metadata": {
        "id": "OUe7-b-7Yl2c"
      },
      "source": [
        "# train settings\n",
        "from train import get_model_args, train_model\n",
        "model_args = get_model_args()\n",
        "model_args.total_steps = 1501\n",
        "model_args.hidden_size = 500\n",
        "model_args.print_every = 5000 # print never\n",
        "model_args.eval_every = 100\n",
        "model_args.learning_rate = 2e-2\n",
        "model_args.device = str('cpu')"
      ],
      "execution_count": 7,
      "outputs": []
    },
    {
      "cell_type": "markdown",
      "metadata": {
        "id": "hVgDM5rI4J65"
      },
      "source": [
        "Find the lottery ticket by repeatedly training and then pruning weights based on their magnitudes. We'll remove 1% of the weights each time. This is going to take half an hour or so.  Go and have lunch or whatever."
      ]
    },
    {
      "cell_type": "code",
      "source": [
        "# sparsity settings - we will train 100 models with progressively increasing sparsity\n",
        "num_retrains = 100\n",
        "sparsity_schedule = np.linspace(0,1.,num_retrains)\n",
        "\n",
        "print(\"Magnitude pruning\")\n",
        "mnist1d.set_seed(model_args.seed)\n",
        "model = SparseMLP(model_args.input_size, model_args.output_size, hidden_size=model_args.hidden_size)\n",
        "\n",
        "criteria_fn = lambda init_params, final_params: final_params.abs()\n",
        "lott_models, lott_stats = find_lottery_ticket(model, data, model_args, sparsity_schedule, criteria_fn=criteria_fn, prune_print_every=1)"
      ],
      "metadata": {
        "id": "M25YpCuS1Gn0",
        "colab": {
          "base_uri": "https://localhost:8080/"
        },
        "outputId": "4f0635cc-b9e0-4f07-a913-07f28c133824"
      },
      "execution_count": 8,
      "outputs": [
        {
          "output_type": "stream",
          "name": "stdout",
          "text": [
            "Magnitude pruning\n",
            "\tretrain #1, sparsity 0.00, final_train_loss 3.343e-01, max_acc 66.3, last_acc 64.3, mean_acc 58.4\n",
            "\tretrain #2, sparsity 0.01, final_train_loss 2.528e-01, max_acc 63.9, last_acc 63.3, mean_acc 57.5\n",
            "\tretrain #3, sparsity 0.02, final_train_loss 2.505e-01, max_acc 65.6, last_acc 65.6, mean_acc 58.1\n",
            "\tretrain #4, sparsity 0.03, final_train_loss 8.451e-02, max_acc 65.1, last_acc 64.3, mean_acc 57.5\n",
            "\tretrain #5, sparsity 0.04, final_train_loss 1.404e-01, max_acc 65.0, last_acc 63.7, mean_acc 57.9\n",
            "\tretrain #6, sparsity 0.05, final_train_loss 1.852e-01, max_acc 65.6, last_acc 63.3, mean_acc 58.0\n",
            "\tretrain #7, sparsity 0.06, final_train_loss 1.924e-01, max_acc 64.9, last_acc 62.3, mean_acc 57.8\n",
            "\tretrain #8, sparsity 0.07, final_train_loss 1.625e-01, max_acc 64.7, last_acc 64.7, mean_acc 58.0\n",
            "\tretrain #9, sparsity 0.08, final_train_loss 1.367e-01, max_acc 68.3, last_acc 64.7, mean_acc 58.8\n",
            "\tretrain #10, sparsity 0.09, final_train_loss 1.732e-01, max_acc 65.2, last_acc 65.2, mean_acc 57.9\n",
            "\tretrain #11, sparsity 0.10, final_train_loss 2.345e-01, max_acc 65.8, last_acc 63.3, mean_acc 58.0\n",
            "\tretrain #12, sparsity 0.11, final_train_loss 3.263e-01, max_acc 64.5, last_acc 64.1, mean_acc 58.1\n",
            "\tretrain #13, sparsity 0.12, final_train_loss 3.311e-01, max_acc 66.2, last_acc 62.2, mean_acc 58.6\n",
            "\tretrain #14, sparsity 0.13, final_train_loss 2.039e-01, max_acc 65.5, last_acc 65.3, mean_acc 57.7\n",
            "\tretrain #15, sparsity 0.14, final_train_loss 2.301e-01, max_acc 63.7, last_acc 63.7, mean_acc 57.4\n",
            "\tretrain #16, sparsity 0.15, final_train_loss 1.782e-01, max_acc 66.0, last_acc 66.0, mean_acc 58.0\n",
            "\tretrain #17, sparsity 0.16, final_train_loss 2.223e-01, max_acc 65.9, last_acc 63.6, mean_acc 58.5\n",
            "\tretrain #18, sparsity 0.17, final_train_loss 2.120e-01, max_acc 65.0, last_acc 63.0, mean_acc 57.4\n",
            "\tretrain #19, sparsity 0.18, final_train_loss 1.181e-01, max_acc 65.5, last_acc 65.5, mean_acc 58.6\n",
            "\tretrain #20, sparsity 0.19, final_train_loss 3.728e-01, max_acc 64.9, last_acc 63.0, mean_acc 58.0\n",
            "\tretrain #21, sparsity 0.20, final_train_loss 2.243e-01, max_acc 67.4, last_acc 65.9, mean_acc 58.1\n",
            "\tretrain #22, sparsity 0.21, final_train_loss 5.245e-02, max_acc 66.2, last_acc 65.9, mean_acc 58.0\n",
            "\tretrain #23, sparsity 0.22, final_train_loss 7.722e-02, max_acc 65.3, last_acc 64.1, mean_acc 58.2\n",
            "\tretrain #24, sparsity 0.23, final_train_loss 2.182e-01, max_acc 65.0, last_acc 65.0, mean_acc 57.6\n",
            "\tretrain #25, sparsity 0.24, final_train_loss 1.920e-01, max_acc 66.4, last_acc 66.4, mean_acc 58.5\n",
            "\tretrain #26, sparsity 0.25, final_train_loss 1.828e-01, max_acc 66.7, last_acc 66.7, mean_acc 58.8\n",
            "\tretrain #27, sparsity 0.26, final_train_loss 1.028e-01, max_acc 66.1, last_acc 64.4, mean_acc 58.3\n",
            "\tretrain #28, sparsity 0.27, final_train_loss 2.413e-01, max_acc 65.2, last_acc 61.9, mean_acc 57.3\n",
            "\tretrain #29, sparsity 0.28, final_train_loss 2.796e-01, max_acc 66.8, last_acc 64.9, mean_acc 58.4\n",
            "\tretrain #30, sparsity 0.29, final_train_loss 2.989e-01, max_acc 64.4, last_acc 64.2, mean_acc 58.0\n",
            "\tretrain #31, sparsity 0.30, final_train_loss 1.945e-01, max_acc 66.2, last_acc 66.2, mean_acc 58.3\n",
            "\tretrain #32, sparsity 0.31, final_train_loss 1.295e-01, max_acc 65.4, last_acc 65.4, mean_acc 58.4\n",
            "\tretrain #33, sparsity 0.32, final_train_loss 3.891e-01, max_acc 65.9, last_acc 63.0, mean_acc 58.0\n",
            "\tretrain #34, sparsity 0.33, final_train_loss 2.725e-01, max_acc 65.5, last_acc 65.5, mean_acc 58.2\n",
            "\tretrain #35, sparsity 0.34, final_train_loss 1.260e-01, max_acc 66.9, last_acc 64.3, mean_acc 57.9\n",
            "\tretrain #36, sparsity 0.35, final_train_loss 4.086e-01, max_acc 66.1, last_acc 66.1, mean_acc 58.1\n",
            "\tretrain #37, sparsity 0.36, final_train_loss 1.360e-01, max_acc 63.9, last_acc 62.5, mean_acc 57.7\n",
            "\tretrain #38, sparsity 0.37, final_train_loss 9.081e-02, max_acc 67.4, last_acc 66.7, mean_acc 58.5\n",
            "\tretrain #39, sparsity 0.38, final_train_loss 1.693e-01, max_acc 65.9, last_acc 61.7, mean_acc 57.4\n",
            "\tretrain #40, sparsity 0.39, final_train_loss 1.777e-01, max_acc 66.2, last_acc 66.2, mean_acc 58.3\n",
            "\tretrain #41, sparsity 0.40, final_train_loss 3.956e-02, max_acc 66.6, last_acc 65.7, mean_acc 59.0\n",
            "\tretrain #42, sparsity 0.41, final_train_loss 2.309e-01, max_acc 65.1, last_acc 65.1, mean_acc 58.0\n",
            "\tretrain #43, sparsity 0.42, final_train_loss 1.436e-01, max_acc 66.2, last_acc 65.2, mean_acc 58.5\n",
            "\tretrain #44, sparsity 0.43, final_train_loss 2.237e-01, max_acc 64.8, last_acc 64.8, mean_acc 57.9\n",
            "\tretrain #45, sparsity 0.44, final_train_loss 6.536e-02, max_acc 65.7, last_acc 65.7, mean_acc 57.6\n",
            "\tretrain #46, sparsity 0.45, final_train_loss 9.328e-02, max_acc 65.4, last_acc 65.4, mean_acc 57.5\n",
            "\tretrain #47, sparsity 0.46, final_train_loss 1.067e-01, max_acc 65.9, last_acc 65.9, mean_acc 58.4\n",
            "\tretrain #48, sparsity 0.47, final_train_loss 3.900e-01, max_acc 65.3, last_acc 65.3, mean_acc 58.5\n",
            "\tretrain #49, sparsity 0.48, final_train_loss 2.684e-01, max_acc 64.3, last_acc 64.3, mean_acc 57.4\n",
            "\tretrain #50, sparsity 0.49, final_train_loss 1.719e-01, max_acc 65.0, last_acc 64.2, mean_acc 58.1\n",
            "\tretrain #51, sparsity 0.51, final_train_loss 1.913e-01, max_acc 68.2, last_acc 64.3, mean_acc 58.6\n",
            "\tretrain #52, sparsity 0.52, final_train_loss 1.877e-01, max_acc 65.1, last_acc 64.7, mean_acc 57.9\n",
            "\tretrain #53, sparsity 0.53, final_train_loss 1.779e-01, max_acc 64.6, last_acc 64.6, mean_acc 58.0\n",
            "\tretrain #54, sparsity 0.54, final_train_loss 2.078e-01, max_acc 67.2, last_acc 67.2, mean_acc 58.4\n",
            "\tretrain #55, sparsity 0.55, final_train_loss 2.168e-01, max_acc 66.4, last_acc 66.4, mean_acc 58.5\n",
            "\tretrain #56, sparsity 0.56, final_train_loss 2.358e-01, max_acc 65.6, last_acc 62.4, mean_acc 57.8\n",
            "\tretrain #57, sparsity 0.57, final_train_loss 2.651e-01, max_acc 65.5, last_acc 65.4, mean_acc 58.3\n",
            "\tretrain #58, sparsity 0.58, final_train_loss 8.108e-02, max_acc 66.6, last_acc 64.5, mean_acc 58.7\n",
            "\tretrain #59, sparsity 0.59, final_train_loss 1.116e-01, max_acc 65.5, last_acc 64.7, mean_acc 58.1\n",
            "\tretrain #60, sparsity 0.60, final_train_loss 1.785e-01, max_acc 66.3, last_acc 66.3, mean_acc 58.1\n",
            "\tretrain #61, sparsity 0.61, final_train_loss 1.291e-01, max_acc 64.9, last_acc 64.5, mean_acc 57.6\n",
            "\tretrain #62, sparsity 0.62, final_train_loss 1.069e-01, max_acc 66.4, last_acc 65.9, mean_acc 58.3\n",
            "\tretrain #63, sparsity 0.63, final_train_loss 4.554e-01, max_acc 65.5, last_acc 65.0, mean_acc 58.0\n",
            "\tretrain #64, sparsity 0.64, final_train_loss 1.159e-01, max_acc 65.2, last_acc 64.9, mean_acc 57.9\n",
            "\tretrain #65, sparsity 0.65, final_train_loss 9.833e-02, max_acc 66.5, last_acc 65.0, mean_acc 57.7\n",
            "\tretrain #66, sparsity 0.66, final_train_loss 2.504e-01, max_acc 65.0, last_acc 63.6, mean_acc 58.0\n",
            "\tretrain #67, sparsity 0.67, final_train_loss 4.863e-01, max_acc 65.0, last_acc 63.0, mean_acc 57.6\n",
            "\tretrain #68, sparsity 0.68, final_train_loss 2.946e-01, max_acc 64.1, last_acc 63.4, mean_acc 57.8\n",
            "\tretrain #69, sparsity 0.69, final_train_loss 1.055e-01, max_acc 67.1, last_acc 67.1, mean_acc 58.1\n",
            "\tretrain #70, sparsity 0.70, final_train_loss 2.235e-01, max_acc 65.0, last_acc 63.8, mean_acc 58.2\n",
            "\tretrain #71, sparsity 0.71, final_train_loss 2.629e-01, max_acc 66.7, last_acc 66.7, mean_acc 57.7\n",
            "\tretrain #72, sparsity 0.72, final_train_loss 8.854e-02, max_acc 65.7, last_acc 63.6, mean_acc 57.6\n",
            "\tretrain #73, sparsity 0.73, final_train_loss 1.036e-01, max_acc 66.6, last_acc 66.6, mean_acc 58.0\n",
            "\tretrain #74, sparsity 0.74, final_train_loss 3.229e-01, max_acc 66.2, last_acc 62.9, mean_acc 58.5\n",
            "\tretrain #75, sparsity 0.75, final_train_loss 9.689e-02, max_acc 65.7, last_acc 65.7, mean_acc 58.5\n",
            "\tretrain #76, sparsity 0.76, final_train_loss 2.303e-01, max_acc 64.0, last_acc 63.4, mean_acc 57.7\n",
            "\tretrain #77, sparsity 0.77, final_train_loss 1.628e-01, max_acc 65.8, last_acc 64.9, mean_acc 58.1\n",
            "\tretrain #78, sparsity 0.78, final_train_loss 4.672e-01, max_acc 64.3, last_acc 62.2, mean_acc 57.5\n",
            "\tretrain #79, sparsity 0.79, final_train_loss 3.556e-01, max_acc 65.7, last_acc 61.2, mean_acc 57.6\n",
            "\tretrain #80, sparsity 0.80, final_train_loss 2.438e-01, max_acc 64.6, last_acc 63.8, mean_acc 58.2\n",
            "\tretrain #81, sparsity 0.81, final_train_loss 7.642e-02, max_acc 65.9, last_acc 64.4, mean_acc 58.4\n",
            "\tretrain #82, sparsity 0.82, final_train_loss 3.002e-01, max_acc 65.2, last_acc 61.4, mean_acc 57.5\n",
            "\tretrain #83, sparsity 0.83, final_train_loss 2.485e-01, max_acc 64.6, last_acc 62.8, mean_acc 57.4\n",
            "\tretrain #84, sparsity 0.84, final_train_loss 1.132e-01, max_acc 65.0, last_acc 65.0, mean_acc 57.7\n",
            "\tretrain #85, sparsity 0.85, final_train_loss 1.034e-01, max_acc 65.2, last_acc 65.2, mean_acc 57.8\n",
            "\tretrain #86, sparsity 0.86, final_train_loss 4.759e-01, max_acc 66.1, last_acc 63.0, mean_acc 57.6\n",
            "\tretrain #87, sparsity 0.87, final_train_loss 1.265e-01, max_acc 65.3, last_acc 64.5, mean_acc 57.9\n",
            "\tretrain #88, sparsity 0.88, final_train_loss 1.456e-01, max_acc 64.0, last_acc 63.8, mean_acc 57.8\n",
            "\tretrain #89, sparsity 0.89, final_train_loss 1.976e-01, max_acc 64.6, last_acc 63.5, mean_acc 57.9\n",
            "\tretrain #90, sparsity 0.90, final_train_loss 2.374e-01, max_acc 64.7, last_acc 60.7, mean_acc 57.0\n",
            "\tretrain #91, sparsity 0.91, final_train_loss 1.782e-01, max_acc 65.5, last_acc 63.1, mean_acc 58.0\n",
            "\tretrain #92, sparsity 0.92, final_train_loss 2.505e-01, max_acc 64.9, last_acc 63.3, mean_acc 57.1\n",
            "\tretrain #93, sparsity 0.93, final_train_loss 1.201e-01, max_acc 63.4, last_acc 63.4, mean_acc 57.0\n",
            "\tretrain #94, sparsity 0.94, final_train_loss 2.356e-01, max_acc 64.8, last_acc 64.8, mean_acc 58.0\n",
            "\tretrain #95, sparsity 0.95, final_train_loss 2.348e-01, max_acc 65.2, last_acc 63.6, mean_acc 57.7\n",
            "\tretrain #96, sparsity 0.96, final_train_loss 1.467e-01, max_acc 64.5, last_acc 64.5, mean_acc 57.2\n",
            "\tretrain #97, sparsity 0.97, final_train_loss 1.801e-01, max_acc 65.3, last_acc 65.3, mean_acc 57.6\n",
            "\tretrain #98, sparsity 0.98, final_train_loss 3.750e-01, max_acc 66.2, last_acc 66.2, mean_acc 58.1\n",
            "\tretrain #99, sparsity 0.99, final_train_loss 1.435e-01, max_acc 65.4, last_acc 65.4, mean_acc 58.4\n",
            "\tretrain #100, sparsity 1.00, final_train_loss 2.226e-01, max_acc 65.4, last_acc 65.1, mean_acc 57.6\n"
          ]
        }
      ]
    },
    {
      "cell_type": "code",
      "source": [
        "test_losses = lott_stats['test_losses'][:,-1]\n",
        "test_accs = lott_stats['test_accs'][:,-1]\n",
        "\n",
        "fig,ax = plt.subplots()\n",
        "ax.plot(sparsity_schedule, test_losses,'r-')\n",
        "ax.plot((sparsity_schedule[0], sparsity_schedule[-1]),(test_losses[0], test_losses[0]),'k--',label='dense')\n",
        "ax.set_xlabel('Sparsity')\n",
        "ax.set_ylabel('Loss')\n",
        "ax.set_xlim(0,1)\n",
        "ax.legend()\n",
        "plt.show()\n",
        "\n",
        "fig,ax = plt.subplots()\n",
        "ax.plot(sparsity_schedule, 100-test_accs,'r-')\n",
        "ax.plot((sparsity_schedule[0], sparsity_schedule[-1]),(100-test_accs[0], 100-test_accs[0]),'k--',label='dense')\n",
        "ax.set_xlabel('Sparsity')\n",
        "ax.set_ylabel('Percent Error')\n",
        "ax.set_xlim(0,1)\n",
        "ax.set_ylim(0,100)\n",
        "ax.legend()\n",
        "plt.show()\n"
      ],
      "metadata": {
        "id": "TCs-kt6-3xHB",
        "colab": {
          "base_uri": "https://localhost:8080/",
          "height": 887
        },
        "outputId": "98a15d7a-48c8-4b88-c1a8-c8c6063b527e"
      },
      "execution_count": 9,
      "outputs": [
        {
          "output_type": "display_data",
          "data": {
            "text/plain": [
              "<Figure size 640x480 with 1 Axes>"
            ],
            "image/png": "[encoded data removed]"
          },
          "metadata": {}
        },
        {
          "output_type": "display_data",
          "data": {
            "text/plain": [
              "<Figure size 640x480 with 1 Axes>"
            ],
            "image/png": "[encoded data removed]"
          },
          "metadata": {}
        }
      ]
    },
    {
      "cell_type": "markdown",
      "source": [
        "You should see that the test loss decreases and the errors decrease with more as the network gets sparser.  The dashed line represents the original dense (unpruned) network.  We have identified a simpler network that was \"inside\" the original network for which the results are superior.  Of course if we make it too sparse, then it gets worse again.\n",
        "\n",
        "This phenomenon is explored much further in the original notebook by Sam Greydanus which can be found [here](https://github.com/greydanus/mnist1d)."
      ],
      "metadata": {
        "id": "CEj5_ZEHcRpw"
      }
    }
  ]
}