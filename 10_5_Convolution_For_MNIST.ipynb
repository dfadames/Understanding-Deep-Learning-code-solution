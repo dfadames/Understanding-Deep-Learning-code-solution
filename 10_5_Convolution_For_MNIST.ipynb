{
  "nbformat": 4,
  "nbformat_minor": 0,
  "metadata": {
    "colab": {
      "provenance": []
    },
    "kernelspec": {
      "name": "python3",
      "display_name": "Python 3"
    },
    "language_info": {
      "name": "python"
    }
  },
  "cells": [
    {
      "cell_type": "markdown",
      "metadata": {
        "id": "view-in-github"
      },
      "source": [
        "<a href=\"https://colab.research.google.com/github/udlbook/udlbook/blob/main/Notebooks/Chap10/10_5_Convolution_For_MNIST.ipynb\" target=\"_parent\"><img src=\"https://colab.research.google.com/assets/colab-badge.svg\" alt=\"Open In Colab\"/></a>"
      ]
    },
    {
      "cell_type": "markdown",
      "source": [
        "# **Notebook 10.5: Convolution for MNIST**\n",
        "\n",
        "This notebook builds a proper network for 2D convolution.  It works with the MNIST dataset (figure 15.15a), which was the original classic dataset for classifying images.  The network will take a 28x28 grayscale image and classify it into one of 10 classes representing a digit.\n",
        "\n",
        "The code is adapted from https://nextjournal.com/gkoehler/pytorch-mnist\n",
        "\n",
        "Work through the cells below, running each cell in turn. In various places you will see the words \"TO DO\". Follow the instructions at these places and make predictions about what is going to happen or write code to complete the functions.\n",
        "\n",
        "Contact me at udlbookmail@gmail.com if you find any mistakes or have any suggestions.\n"
      ],
      "metadata": {
        "id": "t9vk9Elugvmi"
      }
    },
    {
      "cell_type": "code",
      "source": [
        "import torch\n",
        "import torchvision\n",
        "import torch.nn as nn\n",
        "import torch.nn.functional as F\n",
        "import torch.optim as optim\n",
        "import matplotlib.pyplot as plt\n",
        "import random"
      ],
      "metadata": {
        "id": "YrXWAH7sUWvU"
      },
      "execution_count": 1,
      "outputs": []
    },
    {
      "cell_type": "code",
      "source": [
        "# Run this once to load the train and test data straight into a dataloader class\n",
        "# that will provide the batches\n",
        "batch_size_train = 64\n",
        "batch_size_test = 1000\n",
        "train_loader = torch.utils.data.DataLoader(\n",
        "  torchvision.datasets.MNIST('/files/', train=True, download=True,\n",
        "                             transform=torchvision.transforms.Compose([\n",
        "                               torchvision.transforms.ToTensor(),\n",
        "                               torchvision.transforms.Normalize(\n",
        "                                 (0.1307,), (0.3081,))\n",
        "                             ])),\n",
        "  batch_size=batch_size_train, shuffle=True)\n",
        "\n",
        "test_loader = torch.utils.data.DataLoader(\n",
        "  torchvision.datasets.MNIST('/files/', train=False, download=True,\n",
        "                             transform=torchvision.transforms.Compose([\n",
        "                               torchvision.transforms.ToTensor(),\n",
        "                               torchvision.transforms.Normalize(\n",
        "                                 (0.1307,), (0.3081,))\n",
        "                             ])),\n",
        "  batch_size=batch_size_test, shuffle=True)"
      ],
      "metadata": {
        "id": "wScBGXXFVadm",
        "colab": {
          "base_uri": "https://localhost:8080/"
        },
        "outputId": "3936b61c-e272-4b6a-d728-1fbabf2c6006"
      },
      "execution_count": 2,
      "outputs": [
        {
          "output_type": "stream",
          "name": "stdout",
          "text": [
            "Downloading http://yann.lecun.com/exdb/mnist/train-images-idx3-ubyte.gz\n",
            "Failed to download (trying next):\n",
            "HTTP Error 403: Forbidden\n",
            "\n",
            "Downloading https://ossci-datasets.s3.amazonaws.com/mnist/train-images-idx3-ubyte.gz\n",
            "Downloading https://ossci-datasets.s3.amazonaws.com/mnist/train-images-idx3-ubyte.gz to /files/MNIST/raw/train-images-idx3-ubyte.gz\n"
          ]
        },
        {
          "output_type": "stream",
          "name": "stderr",
          "text": [
            "100%|██████████| 9912422/9912422 [00:00<00:00, 32703304.68it/s]\n"
          ]
        },
        {
          "output_type": "stream",
          "name": "stdout",
          "text": [
            "Extracting /files/MNIST/raw/train-images-idx3-ubyte.gz to /files/MNIST/raw\n",
            "\n",
            "Downloading http://yann.lecun.com/exdb/mnist/train-labels-idx1-ubyte.gz\n",
            "Failed to download (trying next):\n",
            "HTTP Error 403: Forbidden\n",
            "\n",
            "Downloading https://ossci-datasets.s3.amazonaws.com/mnist/train-labels-idx1-ubyte.gz\n",
            "Downloading https://ossci-datasets.s3.amazonaws.com/mnist/train-labels-idx1-ubyte.gz to /files/MNIST/raw/train-labels-idx1-ubyte.gz\n"
          ]
        },
        {
          "output_type": "stream",
          "name": "stderr",
          "text": [
            "100%|██████████| 28881/28881 [00:00<00:00, 1079236.77it/s]\n"
          ]
        },
        {
          "output_type": "stream",
          "name": "stdout",
          "text": [
            "Extracting /files/MNIST/raw/train-labels-idx1-ubyte.gz to /files/MNIST/raw\n",
            "\n",
            "Downloading http://yann.lecun.com/exdb/mnist/t10k-images-idx3-ubyte.gz\n",
            "Failed to download (trying next):\n",
            "HTTP Error 403: Forbidden\n",
            "\n",
            "Downloading https://ossci-datasets.s3.amazonaws.com/mnist/t10k-images-idx3-ubyte.gz\n",
            "Downloading https://ossci-datasets.s3.amazonaws.com/mnist/t10k-images-idx3-ubyte.gz to /files/MNIST/raw/t10k-images-idx3-ubyte.gz\n"
          ]
        },
        {
          "output_type": "stream",
          "name": "stderr",
          "text": [
            "100%|██████████| 1648877/1648877 [00:00<00:00, 9260118.07it/s]\n"
          ]
        },
        {
          "output_type": "stream",
          "name": "stdout",
          "text": [
            "Extracting /files/MNIST/raw/t10k-images-idx3-ubyte.gz to /files/MNIST/raw\n",
            "\n",
            "Downloading http://yann.lecun.com/exdb/mnist/t10k-labels-idx1-ubyte.gz\n",
            "Failed to download (trying next):\n",
            "HTTP Error 403: Forbidden\n",
            "\n",
            "Downloading https://ossci-datasets.s3.amazonaws.com/mnist/t10k-labels-idx1-ubyte.gz\n",
            "Downloading https://ossci-datasets.s3.amazonaws.com/mnist/t10k-labels-idx1-ubyte.gz to /files/MNIST/raw/t10k-labels-idx1-ubyte.gz\n"
          ]
        },
        {
          "output_type": "stream",
          "name": "stderr",
          "text": [
            "100%|██████████| 4542/4542 [00:00<00:00, 896368.93it/s]\n"
          ]
        },
        {
          "output_type": "stream",
          "name": "stdout",
          "text": [
            "Extracting /files/MNIST/raw/t10k-labels-idx1-ubyte.gz to /files/MNIST/raw\n",
            "\n"
          ]
        }
      ]
    },
    {
      "cell_type": "code",
      "source": [
        "# Let's draw some of the training data\n",
        "examples = enumerate(test_loader)\n",
        "batch_idx, (example_data, example_targets) = next(examples)\n",
        "\n",
        "fig = plt.figure()\n",
        "for i in range(6):\n",
        "  plt.subplot(2,3,i+1)\n",
        "  plt.tight_layout()\n",
        "  plt.imshow(example_data[i][0], cmap='gray', interpolation='none')\n",
        "  plt.title(\"Ground Truth: {}\".format(example_targets[i]))\n",
        "  plt.xticks([])\n",
        "  plt.yticks([])\n",
        "plt.show()"
      ],
      "metadata": {
        "id": "8bKADvLHbiV5",
        "colab": {
          "base_uri": "https://localhost:8080/",
          "height": 438
        },
        "outputId": "8e18ec41-c0fd-46cd-ad39-618c9a7f0efb"
      },
      "execution_count": 3,
      "outputs": [
        {
          "output_type": "display_data",
          "data": {
            "text/plain": [
              "<Figure size 640x480 with 6 Axes>"
            ],
            "image/png": "[encoded data removed]"
          },
          "metadata": {}
        }
      ]
    },
    {
      "cell_type": "markdown",
      "source": [
        "Define the network.  This is a more typical way to define a network than the sequential structure.  We define a class for the network, and define the parameters in the constructor.  Then we use a function called forward to actually run the network.  It's easy to see how you might use residual connections in this format."
      ],
      "metadata": {
        "id": "_sFvRDGrl4qe"
      }
    },
    {
      "cell_type": "code",
      "source": [
        "from os import X_OK\n",
        "\n",
        "\n",
        "class Net(nn.Module):\n",
        "    def __init__(self):\n",
        "        super(Net, self).__init__()\n",
        "        # 1. Valid convolution with kernel size 5, 1 input channel, 10 output channels\n",
        "        self.conv1 = nn.Conv2d(1, 10, kernel_size=5, stride=1, padding=0)\n",
        "        # 2. Max pooling operation over a 2x2 area\n",
        "        self.pool1 = nn.MaxPool2d(kernel_size=2, stride=2, padding=0)\n",
        "        # 3. ReLU activation\n",
        "        self.relu1 = nn.ReLU()\n",
        "        # 4. Valid convolution with kernel size 5, 10 input channels, 20 output channels\n",
        "        self.conv2 = nn.Conv2d(10, 20, kernel_size=5, stride=1, padding=0)\n",
        "        # 5. 2D Dropout layer\n",
        "        self.drop = nn.Dropout2d(p=0.5)  # Dropout probability of 0.5\n",
        "        # 6. Max pooling operation over a 2x2 area\n",
        "        self.pool2 = nn.MaxPool2d(kernel_size=2, stride=2, padding=0)\n",
        "        # 7. ReLU activation\n",
        "        self.relu2 = nn.ReLU()\n",
        "        # 8. Flattening operation\n",
        "        self.fl = nn.Flatten()\n",
        "        # 9. Fully connected layer mapping from flattened dimensions to 50\n",
        "        self.fc1 = nn.Linear(20 * 4 * 4, 50)\n",
        "        # 10. ReLU activation\n",
        "        self.relu3 = nn.ReLU()\n",
        "        # 11. Fully connected layer mapping from 50 to 10 dimensions\n",
        "        self.fc2 = nn.Linear(50, 10)\n",
        "        # 12. Softmax function\n",
        "        self.softmax = nn.Softmax(dim=1)\n",
        "\n",
        "    def forward(self, x):\n",
        "        # Apply the first convolutional layer\n",
        "        x = self.conv1(x)\n",
        "        # Apply max pooling\n",
        "        x = self.pool1(x)\n",
        "        # Apply ReLU activation\n",
        "        x = self.relu1(x)\n",
        "        # Apply the second convolutional layer\n",
        "        x = self.conv2(x)\n",
        "        # Apply dropout\n",
        "        x = self.drop(x)\n",
        "        # Apply max pooling\n",
        "        x = self.pool2(x)\n",
        "        # Apply ReLU activation\n",
        "        x = self.relu2(x)\n",
        "        # Flatten the output\n",
        "        x = self.fl(x)\n",
        "        # Apply the first fully connected layer\n",
        "        x = self.fc1(x)\n",
        "        # Apply ReLU activation\n",
        "        x = self.relu3(x)\n",
        "        # Apply the second fully connected layer\n",
        "        x = self.fc2(x)\n",
        "        # Apply softmax function\n",
        "        x = self.softmax(x)\n",
        "        return x\n",
        "\n"
      ],
      "metadata": {
        "id": "EQkvw2KOPVl7"
      },
      "execution_count": 7,
      "outputs": []
    },
    {
      "cell_type": "code",
      "source": [
        "# He initialization of weights\n",
        "def weights_init(layer_in):\n",
        "  if isinstance(layer_in, nn.Linear):\n",
        "    nn.init.kaiming_uniform_(layer_in.weight)\n",
        "    layer_in.bias.data.fill_(0.0)"
      ],
      "metadata": {
        "id": "qWZtkCZcU_dg"
      },
      "execution_count": 8,
      "outputs": []
    },
    {
      "cell_type": "code",
      "source": [
        "# Create network\n",
        "model = Net()\n",
        "# Initialize model weights\n",
        "model.apply(weights_init)\n",
        "# Define optimizer\n",
        "optimizer = optim.SGD(model.parameters(), lr=0.01, momentum=0.5)"
      ],
      "metadata": {
        "id": "FslroPJJffrh"
      },
      "execution_count": 9,
      "outputs": []
    },
    {
      "cell_type": "code",
      "source": [
        "# Main training routine\n",
        "def train(epoch):\n",
        "  model.train()\n",
        "  # Get each\n",
        "  for batch_idx, (data, target) in enumerate(train_loader):\n",
        "    optimizer.zero_grad()\n",
        "    output = model(data)\n",
        "    loss = F.nll_loss(output, target)\n",
        "    loss.backward()\n",
        "    optimizer.step()\n",
        "    # Store results\n",
        "    if batch_idx % 10 == 0:\n",
        "      print('Train Epoch: {} [{}/{}]\\tLoss: {:.6f}'.format(\n",
        "        epoch, batch_idx * len(data), len(train_loader.dataset), loss.item()))"
      ],
      "metadata": {
        "id": "xKQd9PzkQ766"
      },
      "execution_count": 10,
      "outputs": []
    },
    {
      "cell_type": "code",
      "source": [
        "# Run on test data\n",
        "def test():\n",
        "  model.eval()\n",
        "  test_loss = 0\n",
        "  correct = 0\n",
        "  with torch.no_grad():\n",
        "    for data, target in test_loader:\n",
        "      output = model(data)\n",
        "      test_loss += F.nll_loss(output, target, size_average=False).item()\n",
        "      pred = output.data.max(1, keepdim=True)[1]\n",
        "      correct += pred.eq(target.data.view_as(pred)).sum()\n",
        "  test_loss /= len(test_loader.dataset)\n",
        "  print('\\nTest set: Avg. loss: {:.4f}, Accuracy: {}/{} ({:.0f}%)\\n'.format(\n",
        "    test_loss, correct, len(test_loader.dataset),\n",
        "    100. * correct / len(test_loader.dataset)))"
      ],
      "metadata": {
        "id": "Byn-f7qWRLxX"
      },
      "execution_count": 11,
      "outputs": []
    },
    {
      "cell_type": "code",
      "source": [
        "# Get initial performance\n",
        "test()\n",
        "# Train for three epochs\n",
        "n_epochs = 3\n",
        "for epoch in range(1, n_epochs + 1):\n",
        "  train(epoch)\n",
        "  test()"
      ],
      "metadata": {
        "id": "YgLaex1pfhqz",
        "colab": {
          "base_uri": "https://localhost:8080/"
        },
        "outputId": "484994c0-8ea5-4b21-e6f7-1b02dc61b6ea"
      },
      "execution_count": 12,
      "outputs": [
        {
          "output_type": "stream",
          "name": "stderr",
          "text": [
            "/usr/local/lib/python3.10/dist-packages/torch/nn/_reduction.py:42: UserWarning: size_average and reduce args will be deprecated, please use reduction='sum' instead.\n",
            "  warnings.warn(warning.format(ret))\n"
          ]
        },
        {
          "output_type": "stream",
          "name": "stdout",
          "text": [
            "\n",
            "Test set: Avg. loss: -0.0984, Accuracy: 769/10000 (8%)\n",
            "\n",
            "Train Epoch: 1 [0/60000]\tLoss: -0.093256\n",
            "Train Epoch: 1 [640/60000]\tLoss: -0.088053\n",
            "Train Epoch: 1 [1280/60000]\tLoss: -0.086134\n",
            "Train Epoch: 1 [1920/60000]\tLoss: -0.115544\n",
            "Train Epoch: 1 [2560/60000]\tLoss: -0.113057\n",
            "Train Epoch: 1 [3200/60000]\tLoss: -0.120713\n",
            "Train Epoch: 1 [3840/60000]\tLoss: -0.123755\n",
            "Train Epoch: 1 [4480/60000]\tLoss: -0.116267\n",
            "Train Epoch: 1 [5120/60000]\tLoss: -0.172304\n",
            "Train Epoch: 1 [5760/60000]\tLoss: -0.170143\n",
            "Train Epoch: 1 [6400/60000]\tLoss: -0.172301\n",
            "Train Epoch: 1 [7040/60000]\tLoss: -0.154382\n",
            "Train Epoch: 1 [7680/60000]\tLoss: -0.125836\n",
            "Train Epoch: 1 [8320/60000]\tLoss: -0.173043\n",
            "Train Epoch: 1 [8960/60000]\tLoss: -0.189123\n",
            "Train Epoch: 1 [9600/60000]\tLoss: -0.176600\n",
            "Train Epoch: 1 [10240/60000]\tLoss: -0.177327\n",
            "Train Epoch: 1 [10880/60000]\tLoss: -0.160656\n",
            "Train Epoch: 1 [11520/60000]\tLoss: -0.256237\n",
            "Train Epoch: 1 [12160/60000]\tLoss: -0.221599\n",
            "Train Epoch: 1 [12800/60000]\tLoss: -0.261109\n",
            "Train Epoch: 1 [13440/60000]\tLoss: -0.203648\n",
            "Train Epoch: 1 [14080/60000]\tLoss: -0.217686\n",
            "Train Epoch: 1 [14720/60000]\tLoss: -0.182734\n",
            "Train Epoch: 1 [15360/60000]\tLoss: -0.287350\n",
            "Train Epoch: 1 [16000/60000]\tLoss: -0.255960\n",
            "Train Epoch: 1 [16640/60000]\tLoss: -0.234450\n",
            "Train Epoch: 1 [17280/60000]\tLoss: -0.315657\n",
            "Train Epoch: 1 [17920/60000]\tLoss: -0.217642\n",
            "Train Epoch: 1 [18560/60000]\tLoss: -0.286625\n",
            "Train Epoch: 1 [19200/60000]\tLoss: -0.318557\n",
            "Train Epoch: 1 [19840/60000]\tLoss: -0.310668\n",
            "Train Epoch: 1 [20480/60000]\tLoss: -0.263593\n",
            "Train Epoch: 1 [21120/60000]\tLoss: -0.371879\n",
            "Train Epoch: 1 [21760/60000]\tLoss: -0.361056\n",
            "Train Epoch: 1 [22400/60000]\tLoss: -0.350209\n",
            "Train Epoch: 1 [23040/60000]\tLoss: -0.401246\n",
            "Train Epoch: 1 [23680/60000]\tLoss: -0.303811\n",
            "Train Epoch: 1 [24320/60000]\tLoss: -0.393748\n",
            "Train Epoch: 1 [24960/60000]\tLoss: -0.503727\n",
            "Train Epoch: 1 [25600/60000]\tLoss: -0.402930\n",
            "Train Epoch: 1 [26240/60000]\tLoss: -0.515727\n",
            "Train Epoch: 1 [26880/60000]\tLoss: -0.447550\n",
            "Train Epoch: 1 [27520/60000]\tLoss: -0.497614\n",
            "Train Epoch: 1 [28160/60000]\tLoss: -0.467998\n",
            "Train Epoch: 1 [28800/60000]\tLoss: -0.534352\n",
            "Train Epoch: 1 [29440/60000]\tLoss: -0.522110\n",
            "Train Epoch: 1 [30080/60000]\tLoss: -0.498793\n",
            "Train Epoch: 1 [30720/60000]\tLoss: -0.544859\n",
            "Train Epoch: 1 [31360/60000]\tLoss: -0.698763\n",
            "Train Epoch: 1 [32000/60000]\tLoss: -0.516296\n",
            "Train Epoch: 1 [32640/60000]\tLoss: -0.572273\n",
            "Train Epoch: 1 [33280/60000]\tLoss: -0.631718\n",
            "Train Epoch: 1 [33920/60000]\tLoss: -0.575892\n",
            "Train Epoch: 1 [34560/60000]\tLoss: -0.515940\n",
            "Train Epoch: 1 [35200/60000]\tLoss: -0.628866\n",
            "Train Epoch: 1 [35840/60000]\tLoss: -0.721402\n",
            "Train Epoch: 1 [36480/60000]\tLoss: -0.615700\n",
            "Train Epoch: 1 [37120/60000]\tLoss: -0.653558\n",
            "Train Epoch: 1 [37760/60000]\tLoss: -0.650559\n",
            "Train Epoch: 1 [38400/60000]\tLoss: -0.637658\n",
            "Train Epoch: 1 [39040/60000]\tLoss: -0.744072\n",
            "Train Epoch: 1 [39680/60000]\tLoss: -0.609116\n",
            "Train Epoch: 1 [40320/60000]\tLoss: -0.694007\n",
            "Train Epoch: 1 [40960/60000]\tLoss: -0.649884\n",
            "Train Epoch: 1 [41600/60000]\tLoss: -0.676553\n",
            "Train Epoch: 1 [42240/60000]\tLoss: -0.670128\n",
            "Train Epoch: 1 [42880/60000]\tLoss: -0.705156\n",
            "Train Epoch: 1 [43520/60000]\tLoss: -0.674879\n",
            "Train Epoch: 1 [44160/60000]\tLoss: -0.651663\n",
            "Train Epoch: 1 [44800/60000]\tLoss: -0.650935\n",
            "Train Epoch: 1 [45440/60000]\tLoss: -0.700570\n",
            "Train Epoch: 1 [46080/60000]\tLoss: -0.792351\n",
            "Train Epoch: 1 [46720/60000]\tLoss: -0.800720\n",
            "Train Epoch: 1 [47360/60000]\tLoss: -0.651673\n",
            "Train Epoch: 1 [48000/60000]\tLoss: -0.682447\n",
            "Train Epoch: 1 [48640/60000]\tLoss: -0.720734\n",
            "Train Epoch: 1 [49280/60000]\tLoss: -0.732825\n",
            "Train Epoch: 1 [49920/60000]\tLoss: -0.629955\n",
            "Train Epoch: 1 [50560/60000]\tLoss: -0.725361\n",
            "Train Epoch: 1 [51200/60000]\tLoss: -0.669140\n",
            "Train Epoch: 1 [51840/60000]\tLoss: -0.633366\n",
            "Train Epoch: 1 [52480/60000]\tLoss: -0.753374\n",
            "Train Epoch: 1 [53120/60000]\tLoss: -0.650901\n",
            "Train Epoch: 1 [53760/60000]\tLoss: -0.741368\n",
            "Train Epoch: 1 [54400/60000]\tLoss: -0.713589\n",
            "Train Epoch: 1 [55040/60000]\tLoss: -0.824307\n",
            "Train Epoch: 1 [55680/60000]\tLoss: -0.738884\n",
            "Train Epoch: 1 [56320/60000]\tLoss: -0.785489\n",
            "Train Epoch: 1 [56960/60000]\tLoss: -0.672321\n",
            "Train Epoch: 1 [57600/60000]\tLoss: -0.625852\n",
            "Train Epoch: 1 [58240/60000]\tLoss: -0.727116\n",
            "Train Epoch: 1 [58880/60000]\tLoss: -0.697200\n",
            "Train Epoch: 1 [59520/60000]\tLoss: -0.647549\n",
            "\n",
            "Test set: Avg. loss: -0.7921, Accuracy: 8017/10000 (80%)\n",
            "\n",
            "Train Epoch: 2 [0/60000]\tLoss: -0.742727\n",
            "Train Epoch: 2 [640/60000]\tLoss: -0.645372\n",
            "Train Epoch: 2 [1280/60000]\tLoss: -0.811008\n",
            "Train Epoch: 2 [1920/60000]\tLoss: -0.739194\n",
            "Train Epoch: 2 [2560/60000]\tLoss: -0.706606\n",
            "Train Epoch: 2 [3200/60000]\tLoss: -0.703230\n",
            "Train Epoch: 2 [3840/60000]\tLoss: -0.894541\n",
            "Train Epoch: 2 [4480/60000]\tLoss: -0.793878\n",
            "Train Epoch: 2 [5120/60000]\tLoss: -0.769192\n",
            "Train Epoch: 2 [5760/60000]\tLoss: -0.871556\n",
            "Train Epoch: 2 [6400/60000]\tLoss: -0.795307\n",
            "Train Epoch: 2 [7040/60000]\tLoss: -0.676473\n",
            "Train Epoch: 2 [7680/60000]\tLoss: -0.712505\n",
            "Train Epoch: 2 [8320/60000]\tLoss: -0.776537\n",
            "Train Epoch: 2 [8960/60000]\tLoss: -0.799597\n",
            "Train Epoch: 2 [9600/60000]\tLoss: -0.757493\n",
            "Train Epoch: 2 [10240/60000]\tLoss: -0.741225\n",
            "Train Epoch: 2 [10880/60000]\tLoss: -0.713558\n",
            "Train Epoch: 2 [11520/60000]\tLoss: -0.728955\n",
            "Train Epoch: 2 [12160/60000]\tLoss: -0.810880\n",
            "Train Epoch: 2 [12800/60000]\tLoss: -0.744901\n",
            "Train Epoch: 2 [13440/60000]\tLoss: -0.731207\n",
            "Train Epoch: 2 [14080/60000]\tLoss: -0.764348\n",
            "Train Epoch: 2 [14720/60000]\tLoss: -0.787924\n",
            "Train Epoch: 2 [15360/60000]\tLoss: -0.835568\n",
            "Train Epoch: 2 [16000/60000]\tLoss: -0.795585\n",
            "Train Epoch: 2 [16640/60000]\tLoss: -0.737239\n",
            "Train Epoch: 2 [17280/60000]\tLoss: -0.772461\n",
            "Train Epoch: 2 [17920/60000]\tLoss: -0.813145\n",
            "Train Epoch: 2 [18560/60000]\tLoss: -0.816792\n",
            "Train Epoch: 2 [19200/60000]\tLoss: -0.696464\n",
            "Train Epoch: 2 [19840/60000]\tLoss: -0.737620\n",
            "Train Epoch: 2 [20480/60000]\tLoss: -0.718400\n",
            "Train Epoch: 2 [21120/60000]\tLoss: -0.795258\n",
            "Train Epoch: 2 [21760/60000]\tLoss: -0.766546\n",
            "Train Epoch: 2 [22400/60000]\tLoss: -0.821000\n",
            "Train Epoch: 2 [23040/60000]\tLoss: -0.838013\n",
            "Train Epoch: 2 [23680/60000]\tLoss: -0.822852\n",
            "Train Epoch: 2 [24320/60000]\tLoss: -0.802908\n",
            "Train Epoch: 2 [24960/60000]\tLoss: -0.740505\n",
            "Train Epoch: 2 [25600/60000]\tLoss: -0.764305\n",
            "Train Epoch: 2 [26240/60000]\tLoss: -0.739110\n",
            "Train Epoch: 2 [26880/60000]\tLoss: -0.812333\n",
            "Train Epoch: 2 [27520/60000]\tLoss: -0.776469\n",
            "Train Epoch: 2 [28160/60000]\tLoss: -0.747329\n",
            "Train Epoch: 2 [28800/60000]\tLoss: -0.809313\n",
            "Train Epoch: 2 [29440/60000]\tLoss: -0.786103\n",
            "Train Epoch: 2 [30080/60000]\tLoss: -0.769699\n",
            "Train Epoch: 2 [30720/60000]\tLoss: -0.800552\n",
            "Train Epoch: 2 [31360/60000]\tLoss: -0.813369\n",
            "Train Epoch: 2 [32000/60000]\tLoss: -0.808612\n",
            "Train Epoch: 2 [32640/60000]\tLoss: -0.776794\n",
            "Train Epoch: 2 [33280/60000]\tLoss: -0.789954\n",
            "Train Epoch: 2 [33920/60000]\tLoss: -0.760597\n",
            "Train Epoch: 2 [34560/60000]\tLoss: -0.775638\n",
            "Train Epoch: 2 [35200/60000]\tLoss: -0.692001\n",
            "Train Epoch: 2 [35840/60000]\tLoss: -0.751411\n",
            "Train Epoch: 2 [36480/60000]\tLoss: -0.677244\n",
            "Train Epoch: 2 [37120/60000]\tLoss: -0.774057\n",
            "Train Epoch: 2 [37760/60000]\tLoss: -0.726584\n",
            "Train Epoch: 2 [38400/60000]\tLoss: -0.772035\n",
            "Train Epoch: 2 [39040/60000]\tLoss: -0.653559\n",
            "Train Epoch: 2 [39680/60000]\tLoss: -0.826020\n",
            "Train Epoch: 2 [40320/60000]\tLoss: -0.752751\n",
            "Train Epoch: 2 [40960/60000]\tLoss: -0.828111\n",
            "Train Epoch: 2 [41600/60000]\tLoss: -0.798015\n",
            "Train Epoch: 2 [42240/60000]\tLoss: -0.698558\n",
            "Train Epoch: 2 [42880/60000]\tLoss: -0.782190\n",
            "Train Epoch: 2 [43520/60000]\tLoss: -0.839795\n",
            "Train Epoch: 2 [44160/60000]\tLoss: -0.735819\n",
            "Train Epoch: 2 [44800/60000]\tLoss: -0.783327\n",
            "Train Epoch: 2 [45440/60000]\tLoss: -0.741120\n",
            "Train Epoch: 2 [46080/60000]\tLoss: -0.840119\n",
            "Train Epoch: 2 [46720/60000]\tLoss: -0.806983\n",
            "Train Epoch: 2 [47360/60000]\tLoss: -0.882046\n",
            "Train Epoch: 2 [48000/60000]\tLoss: -0.764943\n",
            "Train Epoch: 2 [48640/60000]\tLoss: -0.831375\n",
            "Train Epoch: 2 [49280/60000]\tLoss: -0.870758\n",
            "Train Epoch: 2 [49920/60000]\tLoss: -0.788342\n",
            "Train Epoch: 2 [50560/60000]\tLoss: -0.814606\n",
            "Train Epoch: 2 [51200/60000]\tLoss: -0.641777\n",
            "Train Epoch: 2 [51840/60000]\tLoss: -0.866699\n",
            "Train Epoch: 2 [52480/60000]\tLoss: -0.794614\n",
            "Train Epoch: 2 [53120/60000]\tLoss: -0.759793\n",
            "Train Epoch: 2 [53760/60000]\tLoss: -0.771716\n",
            "Train Epoch: 2 [54400/60000]\tLoss: -0.771930\n",
            "Train Epoch: 2 [55040/60000]\tLoss: -0.741594\n",
            "Train Epoch: 2 [55680/60000]\tLoss: -0.717050\n",
            "Train Epoch: 2 [56320/60000]\tLoss: -0.778025\n",
            "Train Epoch: 2 [56960/60000]\tLoss: -0.815453\n",
            "Train Epoch: 2 [57600/60000]\tLoss: -0.779223\n",
            "Train Epoch: 2 [58240/60000]\tLoss: -0.774120\n",
            "Train Epoch: 2 [58880/60000]\tLoss: -0.804667\n",
            "Train Epoch: 2 [59520/60000]\tLoss: -0.804983\n",
            "\n",
            "Test set: Avg. loss: -0.8283, Accuracy: 8309/10000 (83%)\n",
            "\n",
            "Train Epoch: 3 [0/60000]\tLoss: -0.849896\n",
            "Train Epoch: 3 [640/60000]\tLoss: -0.856462\n",
            "Train Epoch: 3 [1280/60000]\tLoss: -0.748937\n",
            "Train Epoch: 3 [1920/60000]\tLoss: -0.786157\n",
            "Train Epoch: 3 [2560/60000]\tLoss: -0.742288\n",
            "Train Epoch: 3 [3200/60000]\tLoss: -0.804073\n",
            "Train Epoch: 3 [3840/60000]\tLoss: -0.810178\n",
            "Train Epoch: 3 [4480/60000]\tLoss: -0.816563\n",
            "Train Epoch: 3 [5120/60000]\tLoss: -0.756478\n",
            "Train Epoch: 3 [5760/60000]\tLoss: -0.813997\n",
            "Train Epoch: 3 [6400/60000]\tLoss: -0.837200\n",
            "Train Epoch: 3 [7040/60000]\tLoss: -0.806993\n",
            "Train Epoch: 3 [7680/60000]\tLoss: -0.825146\n",
            "Train Epoch: 3 [8320/60000]\tLoss: -0.760405\n",
            "Train Epoch: 3 [8960/60000]\tLoss: -0.849769\n",
            "Train Epoch: 3 [9600/60000]\tLoss: -0.747327\n",
            "Train Epoch: 3 [10240/60000]\tLoss: -0.668720\n",
            "Train Epoch: 3 [10880/60000]\tLoss: -0.763874\n",
            "Train Epoch: 3 [11520/60000]\tLoss: -0.751703\n",
            "Train Epoch: 3 [12160/60000]\tLoss: -0.817005\n",
            "Train Epoch: 3 [12800/60000]\tLoss: -0.829348\n",
            "Train Epoch: 3 [13440/60000]\tLoss: -0.837028\n",
            "Train Epoch: 3 [14080/60000]\tLoss: -0.690766\n",
            "Train Epoch: 3 [14720/60000]\tLoss: -0.791284\n",
            "Train Epoch: 3 [15360/60000]\tLoss: -0.785462\n",
            "Train Epoch: 3 [16000/60000]\tLoss: -0.823696\n",
            "Train Epoch: 3 [16640/60000]\tLoss: -0.786882\n",
            "Train Epoch: 3 [17280/60000]\tLoss: -0.830705\n",
            "Train Epoch: 3 [17920/60000]\tLoss: -0.806716\n",
            "Train Epoch: 3 [18560/60000]\tLoss: -0.752628\n",
            "Train Epoch: 3 [19200/60000]\tLoss: -0.884235\n",
            "Train Epoch: 3 [19840/60000]\tLoss: -0.810740\n",
            "Train Epoch: 3 [20480/60000]\tLoss: -0.821942\n",
            "Train Epoch: 3 [21120/60000]\tLoss: -0.788602\n",
            "Train Epoch: 3 [21760/60000]\tLoss: -0.842932\n",
            "Train Epoch: 3 [22400/60000]\tLoss: -0.761996\n",
            "Train Epoch: 3 [23040/60000]\tLoss: -0.721402\n",
            "Train Epoch: 3 [23680/60000]\tLoss: -0.819162\n",
            "Train Epoch: 3 [24320/60000]\tLoss: -0.819375\n",
            "Train Epoch: 3 [24960/60000]\tLoss: -0.790820\n",
            "Train Epoch: 3 [25600/60000]\tLoss: -0.825924\n",
            "Train Epoch: 3 [26240/60000]\tLoss: -0.847035\n",
            "Train Epoch: 3 [26880/60000]\tLoss: -0.780305\n",
            "Train Epoch: 3 [27520/60000]\tLoss: -0.874377\n",
            "Train Epoch: 3 [28160/60000]\tLoss: -0.759045\n",
            "Train Epoch: 3 [28800/60000]\tLoss: -0.838108\n",
            "Train Epoch: 3 [29440/60000]\tLoss: -0.800473\n",
            "Train Epoch: 3 [30080/60000]\tLoss: -0.787976\n",
            "Train Epoch: 3 [30720/60000]\tLoss: -0.851876\n",
            "Train Epoch: 3 [31360/60000]\tLoss: -0.781114\n",
            "Train Epoch: 3 [32000/60000]\tLoss: -0.822092\n",
            "Train Epoch: 3 [32640/60000]\tLoss: -0.795550\n",
            "Train Epoch: 3 [33280/60000]\tLoss: -0.853329\n",
            "Train Epoch: 3 [33920/60000]\tLoss: -0.803751\n",
            "Train Epoch: 3 [34560/60000]\tLoss: -0.870043\n",
            "Train Epoch: 3 [35200/60000]\tLoss: -0.803395\n",
            "Train Epoch: 3 [35840/60000]\tLoss: -0.672638\n",
            "Train Epoch: 3 [36480/60000]\tLoss: -0.884941\n",
            "Train Epoch: 3 [37120/60000]\tLoss: -0.827341\n",
            "Train Epoch: 3 [37760/60000]\tLoss: -0.793352\n",
            "Train Epoch: 3 [38400/60000]\tLoss: -0.799382\n",
            "Train Epoch: 3 [39040/60000]\tLoss: -0.754961\n",
            "Train Epoch: 3 [39680/60000]\tLoss: -0.803294\n",
            "Train Epoch: 3 [40320/60000]\tLoss: -0.784361\n",
            "Train Epoch: 3 [40960/60000]\tLoss: -0.901044\n",
            "Train Epoch: 3 [41600/60000]\tLoss: -0.762791\n",
            "Train Epoch: 3 [42240/60000]\tLoss: -0.802167\n",
            "Train Epoch: 3 [42880/60000]\tLoss: -0.800357\n",
            "Train Epoch: 3 [43520/60000]\tLoss: -0.836320\n",
            "Train Epoch: 3 [44160/60000]\tLoss: -0.801486\n",
            "Train Epoch: 3 [44800/60000]\tLoss: -0.805520\n",
            "Train Epoch: 3 [45440/60000]\tLoss: -0.793190\n",
            "Train Epoch: 3 [46080/60000]\tLoss: -0.764539\n",
            "Train Epoch: 3 [46720/60000]\tLoss: -0.867442\n",
            "Train Epoch: 3 [47360/60000]\tLoss: -0.750095\n",
            "Train Epoch: 3 [48000/60000]\tLoss: -0.709511\n",
            "Train Epoch: 3 [48640/60000]\tLoss: -0.803476\n",
            "Train Epoch: 3 [49280/60000]\tLoss: -0.765136\n",
            "Train Epoch: 3 [49920/60000]\tLoss: -0.836144\n",
            "Train Epoch: 3 [50560/60000]\tLoss: -0.869399\n",
            "Train Epoch: 3 [51200/60000]\tLoss: -0.826325\n",
            "Train Epoch: 3 [51840/60000]\tLoss: -0.766718\n",
            "Train Epoch: 3 [52480/60000]\tLoss: -0.770987\n",
            "Train Epoch: 3 [53120/60000]\tLoss: -0.890019\n",
            "Train Epoch: 3 [53760/60000]\tLoss: -0.772467\n",
            "Train Epoch: 3 [54400/60000]\tLoss: -0.895900\n",
            "Train Epoch: 3 [55040/60000]\tLoss: -0.833578\n",
            "Train Epoch: 3 [55680/60000]\tLoss: -0.856947\n",
            "Train Epoch: 3 [56320/60000]\tLoss: -0.820074\n",
            "Train Epoch: 3 [56960/60000]\tLoss: -0.880948\n",
            "Train Epoch: 3 [57600/60000]\tLoss: -0.798943\n",
            "Train Epoch: 3 [58240/60000]\tLoss: -0.832713\n",
            "Train Epoch: 3 [58880/60000]\tLoss: -0.890888\n",
            "Train Epoch: 3 [59520/60000]\tLoss: -0.790898\n",
            "\n",
            "Test set: Avg. loss: -0.9089, Accuracy: 9140/10000 (91%)\n",
            "\n"
          ]
        }
      ]
    },
    {
      "cell_type": "code",
      "source": [
        "# Run network on data we got before and show predictions\n",
        "output = model(example_data)\n",
        "\n",
        "fig = plt.figure()\n",
        "for i in range(10):\n",
        "  plt.subplot(5,5,i+1)\n",
        "  plt.tight_layout()\n",
        "  plt.imshow(example_data[i][0], cmap='gray', interpolation='none')\n",
        "  plt.title(\"Prediction: {}\".format(\n",
        "    output.data.max(1, keepdim=True)[1][i].item()))\n",
        "  plt.xticks([])\n",
        "  plt.yticks([])\n",
        "plt.show()"
      ],
      "metadata": {
        "id": "o7fRUAy9Se1B",
        "colab": {
          "base_uri": "https://localhost:8080/",
          "height": 207
        },
        "outputId": "8f39409e-3db4-4fa2-fce6-3645b5846e18"
      },
      "execution_count": 13,
      "outputs": [
        {
          "output_type": "display_data",
          "data": {
            "text/plain": [
              "<Figure size 640x480 with 10 Axes>"
            ],
            "image/png": "[encoded data removed]"
          },
          "metadata": {}
        }
      ]
    }
  ]
}