{
  "cells": [
    {
      "cell_type": "markdown",
      "metadata": {
        "id": "view-in-github"
      },
      "source": [
        "<a href=\"https://colab.research.google.com/github/udlbook/udlbook/blob/main/Notebooks/Chap20/20_4_Adversarial_Attacks.ipynb\" target=\"_parent\"><img src=\"https://colab.research.google.com/assets/colab-badge.svg\" alt=\"Open In Colab\"/></a>"
      ]
    },
    {
      "cell_type": "markdown",
      "metadata": {
        "id": "t9vk9Elugvmi"
      },
      "source": [
        "# **Notebook 20.4: Adversarial attacks**\n",
        "\n",
        "This notebook builds uses the network for classification of MNIST from Notebook 10.5.  The code is adapted from https://nextjournal.com/gkoehler/pytorch-mnist, and uses the fast gradient sign attack of [Goodfellow et al. (2015)](https://arxiv.org/abs/1412.6572).  Having trained, the network, we search for adversarial examples -- inputs which look very similar to class A, but are mistakenly classified as class B.  We do this by starting with a correctly classified example and perturbing it according to the gradients of the network so that the output changes.\n",
        "\n",
        "Work through the cells below, running each cell in turn. In various places you will see the words \"TO DO\". Follow the instructions at these places and make predictions about what is going to happen or write code to complete the functions.\n",
        "\n",
        "Contact me at udlbookmail@gmail.com if you find any mistakes or have any suggestions.\n"
      ]
    },
    {
      "cell_type": "code",
      "execution_count": 1,
      "metadata": {
        "id": "YrXWAH7sUWvU"
      },
      "outputs": [],
      "source": [
        "import torch\n",
        "import torchvision\n",
        "import torch.nn as nn\n",
        "import torch.nn.functional as F\n",
        "import torch.optim as optim\n",
        "import matplotlib.pyplot as plt\n",
        "import random"
      ]
    },
    {
      "cell_type": "code",
      "execution_count": 2,
      "metadata": {
        "colab": {
          "base_uri": "https://localhost:8080/"
        },
        "id": "wScBGXXFVadm",
        "outputId": "1d06b350-006f-49ab-bae7-84218b793381"
      },
      "outputs": [
        {
          "name": "stdout",
          "output_type": "stream",
          "text": [
            "Downloading http://yann.lecun.com/exdb/mnist/train-images-idx3-ubyte.gz\n",
            "Failed to download (trying next):\n",
            "HTTP Error 403: Forbidden\n",
            "\n",
            "Downloading https://ossci-datasets.s3.amazonaws.com/mnist/train-images-idx3-ubyte.gz\n",
            "Downloading https://ossci-datasets.s3.amazonaws.com/mnist/train-images-idx3-ubyte.gz to /files/MNIST/raw/train-images-idx3-ubyte.gz\n"
          ]
        },
        {
          "name": "stderr",
          "output_type": "stream",
          "text": [
            "100%|██████████| 9912422/9912422 [00:00<00:00, 42831178.76it/s]\n"
          ]
        },
        {
          "name": "stdout",
          "output_type": "stream",
          "text": [
            "Extracting /files/MNIST/raw/train-images-idx3-ubyte.gz to /files/MNIST/raw\n",
            "\n",
            "Downloading http://yann.lecun.com/exdb/mnist/train-labels-idx1-ubyte.gz\n",
            "Failed to download (trying next):\n",
            "HTTP Error 403: Forbidden\n",
            "\n",
            "Downloading https://ossci-datasets.s3.amazonaws.com/mnist/train-labels-idx1-ubyte.gz\n",
            "Downloading https://ossci-datasets.s3.amazonaws.com/mnist/train-labels-idx1-ubyte.gz to /files/MNIST/raw/train-labels-idx1-ubyte.gz\n"
          ]
        },
        {
          "name": "stderr",
          "output_type": "stream",
          "text": [
            "100%|██████████| 28881/28881 [00:00<00:00, 3710924.05it/s]"
          ]
        },
        {
          "name": "stdout",
          "output_type": "stream",
          "text": [
            "Extracting /files/MNIST/raw/train-labels-idx1-ubyte.gz to /files/MNIST/raw\n",
            "\n",
            "Downloading http://yann.lecun.com/exdb/mnist/t10k-images-idx3-ubyte.gz\n"
          ]
        },
        {
          "name": "stderr",
          "output_type": "stream",
          "text": [
            "\n"
          ]
        },
        {
          "name": "stdout",
          "output_type": "stream",
          "text": [
            "Failed to download (trying next):\n",
            "HTTP Error 403: Forbidden\n",
            "\n",
            "Downloading https://ossci-datasets.s3.amazonaws.com/mnist/t10k-images-idx3-ubyte.gz\n",
            "Downloading https://ossci-datasets.s3.amazonaws.com/mnist/t10k-images-idx3-ubyte.gz to /files/MNIST/raw/t10k-images-idx3-ubyte.gz\n"
          ]
        },
        {
          "name": "stderr",
          "output_type": "stream",
          "text": [
            "100%|██████████| 1648877/1648877 [00:00<00:00, 14784148.04it/s]\n"
          ]
        },
        {
          "name": "stdout",
          "output_type": "stream",
          "text": [
            "Extracting /files/MNIST/raw/t10k-images-idx3-ubyte.gz to /files/MNIST/raw\n",
            "\n",
            "Downloading http://yann.lecun.com/exdb/mnist/t10k-labels-idx1-ubyte.gz\n",
            "Failed to download (trying next):\n",
            "HTTP Error 403: Forbidden\n",
            "\n",
            "Downloading https://ossci-datasets.s3.amazonaws.com/mnist/t10k-labels-idx1-ubyte.gz\n",
            "Downloading https://ossci-datasets.s3.amazonaws.com/mnist/t10k-labels-idx1-ubyte.gz to /files/MNIST/raw/t10k-labels-idx1-ubyte.gz\n"
          ]
        },
        {
          "name": "stderr",
          "output_type": "stream",
          "text": [
            "100%|██████████| 4542/4542 [00:00<00:00, 7842951.32it/s]"
          ]
        },
        {
          "name": "stdout",
          "output_type": "stream",
          "text": [
            "Extracting /files/MNIST/raw/t10k-labels-idx1-ubyte.gz to /files/MNIST/raw\n",
            "\n"
          ]
        },
        {
          "name": "stderr",
          "output_type": "stream",
          "text": [
            "\n"
          ]
        }
      ],
      "source": [
        "# Run this once to load the train and test data straight into a dataloader class\n",
        "# that will provide the batches\n",
        "batch_size_train = 64\n",
        "batch_size_test = 1000\n",
        "train_loader = torch.utils.data.DataLoader(\n",
        "  torchvision.datasets.MNIST('/files/', train=True, download=True,\n",
        "                             transform=torchvision.transforms.Compose([\n",
        "                               torchvision.transforms.ToTensor(),\n",
        "                               torchvision.transforms.Normalize(\n",
        "                                 (0.1307,), (0.3081,))\n",
        "                             ])),\n",
        "  batch_size=batch_size_train, shuffle=True)\n",
        "\n",
        "test_loader = torch.utils.data.DataLoader(\n",
        "  torchvision.datasets.MNIST('/files/', train=False, download=True,\n",
        "                             transform=torchvision.transforms.Compose([\n",
        "                               torchvision.transforms.ToTensor(),\n",
        "                               torchvision.transforms.Normalize(\n",
        "                                 (0.1307,), (0.3081,))\n",
        "                             ])),\n",
        "  batch_size=batch_size_test, shuffle=True)"
      ]
    },
    {
      "cell_type": "code",
      "execution_count": 3,
      "metadata": {
        "colab": {
          "base_uri": "https://localhost:8080/",
          "height": 438
        },
        "id": "8bKADvLHbiV5",
        "outputId": "3908e8ec-fe45-4281-eb99-9d5171d941e1"
      },
      "outputs": [
        {
          "data": {
            "image/png": "[encoded data removed]",
            "text/plain": [
              "<Figure size 640x480 with 6 Axes>"
            ]
          },
          "metadata": {},
          "output_type": "display_data"
        }
      ],
      "source": [
        "# Let's draw some of the training data\n",
        "examples = enumerate(test_loader)\n",
        "batch_idx, (example_data, example_targets) = next(examples)\n",
        "\n",
        "fig = plt.figure()\n",
        "for i in range(6):\n",
        "  plt.subplot(2,3,i+1)\n",
        "  plt.tight_layout()\n",
        "  plt.imshow(example_data[i][0], cmap='gray', interpolation='none')\n",
        "  plt.title(\"Ground Truth: {}\".format(example_targets[i]))\n",
        "  plt.xticks([])\n",
        "  plt.yticks([])\n",
        "plt.show()"
      ]
    },
    {
      "cell_type": "markdown",
      "metadata": {
        "id": "_sFvRDGrl4qe"
      },
      "source": [
        "Define the network.  This is a more typical way to define a network than the sequential structure.  We define a class for the network, and define the parameters in the constructor.  Then we use a function called forward to actually run the network.  It's easy to see how you might use residual connections in this format."
      ]
    },
    {
      "cell_type": "code",
      "execution_count": 4,
      "metadata": {
        "id": "EQkvw2KOPVl7"
      },
      "outputs": [],
      "source": [
        "from os import X_OK\n",
        "\n",
        "class Net(nn.Module):\n",
        "    def __init__(self):\n",
        "        super(Net, self).__init__()\n",
        "        self.conv1 = nn.Conv2d(1, 10, kernel_size=5)\n",
        "        self.conv2 = nn.Conv2d(10, 20, kernel_size=5)\n",
        "        self.drop = nn.Dropout2d()\n",
        "        self.fc1 = nn.Linear(320, 50)\n",
        "        self.fc2 = nn.Linear(50, 10)\n",
        "\n",
        "    def forward(self, x):\n",
        "        x = self.conv1(x)\n",
        "        x = F.max_pool2d(x,2)\n",
        "        x = F.relu(x)\n",
        "        x = self.conv2(x)\n",
        "        x = self.drop(x)\n",
        "        x = F.max_pool2d(x,2)\n",
        "        x = F.relu(x)\n",
        "        x = x.flatten(1)\n",
        "        x = F.relu(self.fc1(x))\n",
        "        x = self.fc2(x)\n",
        "        x = F.log_softmax(x)\n",
        "        return x"
      ]
    },
    {
      "cell_type": "code",
      "execution_count": 5,
      "metadata": {
        "id": "qWZtkCZcU_dg"
      },
      "outputs": [],
      "source": [
        "# He initialization of weights\n",
        "def weights_init(layer_in):\n",
        "  if isinstance(layer_in, nn.Linear):\n",
        "    nn.init.kaiming_uniform_(layer_in.weight)\n",
        "    layer_in.bias.data.fill_(0.0)"
      ]
    },
    {
      "cell_type": "code",
      "execution_count": 6,
      "metadata": {
        "id": "FslroPJJffrh"
      },
      "outputs": [],
      "source": [
        "# Create network\n",
        "model = Net()\n",
        "# Initialize model weights\n",
        "model.apply(weights_init)\n",
        "# Define optimizer\n",
        "optimizer = optim.SGD(model.parameters(), lr=0.01, momentum=0.5)"
      ]
    },
    {
      "cell_type": "code",
      "execution_count": 7,
      "metadata": {
        "id": "xKQd9PzkQ766"
      },
      "outputs": [],
      "source": [
        "# Main training routine\n",
        "def train(epoch):\n",
        "  model.train()\n",
        "  # Get each\n",
        "  for batch_idx, (data, target) in enumerate(train_loader):\n",
        "    optimizer.zero_grad()\n",
        "    output = model(data)\n",
        "    loss = F.nll_loss(output, target)\n",
        "    loss.backward()\n",
        "    optimizer.step()\n",
        "    # Store results\n",
        "    if batch_idx % 10 == 0:\n",
        "      print('Train Epoch: {} [{}/{}]\\tLoss: {:.6f}'.format(\n",
        "        epoch, batch_idx * len(data), len(train_loader.dataset), loss.item()))"
      ]
    },
    {
      "cell_type": "code",
      "execution_count": 8,
      "metadata": {
        "id": "Byn-f7qWRLxX"
      },
      "outputs": [],
      "source": [
        "# Run on test data\n",
        "def test():\n",
        "  model.eval()\n",
        "  test_loss = 0\n",
        "  correct = 0\n",
        "  with torch.no_grad():\n",
        "    for data, target in test_loader:\n",
        "      output = model(data)\n",
        "      test_loss += F.nll_loss(output, target, size_average=False).item()\n",
        "      pred = output.data.max(1, keepdim=True)[1]\n",
        "      correct += pred.eq(target.data.view_as(pred)).sum()\n",
        "  test_loss /= len(test_loader.dataset)\n",
        "  print('\\nTest set: Avg. loss: {:.4f}, Accuracy: {}/{} ({:.0f}%)\\n'.format(\n",
        "    test_loss, correct, len(test_loader.dataset),\n",
        "    100. * correct / len(test_loader.dataset)))"
      ]
    },
    {
      "cell_type": "code",
      "execution_count": 9,
      "metadata": {
        "colab": {
          "base_uri": "https://localhost:8080/"
        },
        "id": "YgLaex1pfhqz",
        "outputId": "43b559dc-5dff-40b1-cb61-f7ae693837d2"
      },
      "outputs": [
        {
          "name": "stderr",
          "output_type": "stream",
          "text": [
            "<ipython-input-4-44c2b231bb59>:23: UserWarning: Implicit dimension choice for log_softmax has been deprecated. Change the call to include dim=X as an argument.\n",
            "  x = F.log_softmax(x)\n",
            "/usr/local/lib/python3.10/dist-packages/torch/nn/_reduction.py:42: UserWarning: size_average and reduce args will be deprecated, please use reduction='sum' instead.\n",
            "  warnings.warn(warning.format(ret))\n"
          ]
        },
        {
          "name": "stdout",
          "output_type": "stream",
          "text": [
            "\n",
            "Test set: Avg. loss: 2.6126, Accuracy: 1189/10000 (12%)\n",
            "\n",
            "Train Epoch: 1 [0/60000]\tLoss: 2.789928\n",
            "Train Epoch: 1 [640/60000]\tLoss: 2.197310\n",
            "Train Epoch: 1 [1280/60000]\tLoss: 2.132190\n",
            "Train Epoch: 1 [1920/60000]\tLoss: 2.052075\n",
            "Train Epoch: 1 [2560/60000]\tLoss: 1.714769\n",
            "Train Epoch: 1 [3200/60000]\tLoss: 1.627686\n",
            "Train Epoch: 1 [3840/60000]\tLoss: 1.474216\n",
            "Train Epoch: 1 [4480/60000]\tLoss: 1.361222\n",
            "Train Epoch: 1 [5120/60000]\tLoss: 1.187031\n",
            "Train Epoch: 1 [5760/60000]\tLoss: 1.080740\n",
            "Train Epoch: 1 [6400/60000]\tLoss: 0.823745\n",
            "Train Epoch: 1 [7040/60000]\tLoss: 1.036269\n",
            "Train Epoch: 1 [7680/60000]\tLoss: 0.977122\n",
            "Train Epoch: 1 [8320/60000]\tLoss: 0.763888\n",
            "Train Epoch: 1 [8960/60000]\tLoss: 0.785551\n",
            "Train Epoch: 1 [9600/60000]\tLoss: 0.486770\n",
            "Train Epoch: 1 [10240/60000]\tLoss: 0.793545\n",
            "Train Epoch: 1 [10880/60000]\tLoss: 0.490803\n",
            "Train Epoch: 1 [11520/60000]\tLoss: 0.544455\n",
            "Train Epoch: 1 [12160/60000]\tLoss: 0.684637\n",
            "Train Epoch: 1 [12800/60000]\tLoss: 0.508033\n",
            "Train Epoch: 1 [13440/60000]\tLoss: 0.765674\n",
            "Train Epoch: 1 [14080/60000]\tLoss: 0.418333\n",
            "Train Epoch: 1 [14720/60000]\tLoss: 0.472368\n",
            "Train Epoch: 1 [15360/60000]\tLoss: 0.451546\n",
            "Train Epoch: 1 [16000/60000]\tLoss: 0.502426\n",
            "Train Epoch: 1 [16640/60000]\tLoss: 0.360151\n",
            "Train Epoch: 1 [17280/60000]\tLoss: 0.416219\n",
            "Train Epoch: 1 [17920/60000]\tLoss: 0.437098\n",
            "Train Epoch: 1 [18560/60000]\tLoss: 0.450350\n",
            "Train Epoch: 1 [19200/60000]\tLoss: 0.514600\n",
            "Train Epoch: 1 [19840/60000]\tLoss: 0.300134\n",
            "Train Epoch: 1 [20480/60000]\tLoss: 0.342221\n",
            "Train Epoch: 1 [21120/60000]\tLoss: 0.538807\n",
            "Train Epoch: 1 [21760/60000]\tLoss: 0.363231\n",
            "Train Epoch: 1 [22400/60000]\tLoss: 0.458012\n",
            "Train Epoch: 1 [23040/60000]\tLoss: 0.151700\n",
            "Train Epoch: 1 [23680/60000]\tLoss: 0.255961\n",
            "Train Epoch: 1 [24320/60000]\tLoss: 0.498698\n",
            "Train Epoch: 1 [24960/60000]\tLoss: 0.470651\n",
            "Train Epoch: 1 [25600/60000]\tLoss: 0.406149\n",
            "Train Epoch: 1 [26240/60000]\tLoss: 0.423103\n",
            "Train Epoch: 1 [26880/60000]\tLoss: 0.329236\n",
            "Train Epoch: 1 [27520/60000]\tLoss: 0.420749\n",
            "Train Epoch: 1 [28160/60000]\tLoss: 0.366494\n",
            "Train Epoch: 1 [28800/60000]\tLoss: 0.320147\n",
            "Train Epoch: 1 [29440/60000]\tLoss: 0.416538\n",
            "Train Epoch: 1 [30080/60000]\tLoss: 0.253868\n",
            "Train Epoch: 1 [30720/60000]\tLoss: 0.418080\n",
            "Train Epoch: 1 [31360/60000]\tLoss: 0.370798\n",
            "Train Epoch: 1 [32000/60000]\tLoss: 0.572957\n",
            "Train Epoch: 1 [32640/60000]\tLoss: 0.320909\n",
            "Train Epoch: 1 [33280/60000]\tLoss: 0.392835\n",
            "Train Epoch: 1 [33920/60000]\tLoss: 0.328833\n",
            "Train Epoch: 1 [34560/60000]\tLoss: 0.326496\n",
            "Train Epoch: 1 [35200/60000]\tLoss: 0.436966\n",
            "Train Epoch: 1 [35840/60000]\tLoss: 0.286556\n",
            "Train Epoch: 1 [36480/60000]\tLoss: 0.288982\n",
            "Train Epoch: 1 [37120/60000]\tLoss: 0.239289\n",
            "Train Epoch: 1 [37760/60000]\tLoss: 0.278274\n",
            "Train Epoch: 1 [38400/60000]\tLoss: 0.247339\n",
            "Train Epoch: 1 [39040/60000]\tLoss: 0.392450\n",
            "Train Epoch: 1 [39680/60000]\tLoss: 0.227472\n",
            "Train Epoch: 1 [40320/60000]\tLoss: 0.373324\n",
            "Train Epoch: 1 [40960/60000]\tLoss: 0.424865\n",
            "Train Epoch: 1 [41600/60000]\tLoss: 0.180921\n",
            "Train Epoch: 1 [42240/60000]\tLoss: 0.275640\n",
            "Train Epoch: 1 [42880/60000]\tLoss: 0.326792\n",
            "Train Epoch: 1 [43520/60000]\tLoss: 0.427299\n",
            "Train Epoch: 1 [44160/60000]\tLoss: 0.321823\n",
            "Train Epoch: 1 [44800/60000]\tLoss: 0.123018\n",
            "Train Epoch: 1 [45440/60000]\tLoss: 0.220851\n",
            "Train Epoch: 1 [46080/60000]\tLoss: 0.256871\n",
            "Train Epoch: 1 [46720/60000]\tLoss: 0.201976\n",
            "Train Epoch: 1 [47360/60000]\tLoss: 0.233833\n",
            "Train Epoch: 1 [48000/60000]\tLoss: 0.462924\n",
            "Train Epoch: 1 [48640/60000]\tLoss: 0.343041\n",
            "Train Epoch: 1 [49280/60000]\tLoss: 0.418024\n",
            "Train Epoch: 1 [49920/60000]\tLoss: 0.234541\n",
            "Train Epoch: 1 [50560/60000]\tLoss: 0.264395\n",
            "Train Epoch: 1 [51200/60000]\tLoss: 0.242676\n",
            "Train Epoch: 1 [51840/60000]\tLoss: 0.250009\n",
            "Train Epoch: 1 [52480/60000]\tLoss: 0.518220\n",
            "Train Epoch: 1 [53120/60000]\tLoss: 0.149502\n",
            "Train Epoch: 1 [53760/60000]\tLoss: 0.281583\n",
            "Train Epoch: 1 [54400/60000]\tLoss: 0.143070\n",
            "Train Epoch: 1 [55040/60000]\tLoss: 0.219782\n",
            "Train Epoch: 1 [55680/60000]\tLoss: 0.153195\n",
            "Train Epoch: 1 [56320/60000]\tLoss: 0.127163\n",
            "Train Epoch: 1 [56960/60000]\tLoss: 0.296595\n",
            "Train Epoch: 1 [57600/60000]\tLoss: 0.278097\n",
            "Train Epoch: 1 [58240/60000]\tLoss: 0.348562\n",
            "Train Epoch: 1 [58880/60000]\tLoss: 0.280458\n",
            "Train Epoch: 1 [59520/60000]\tLoss: 0.245895\n",
            "\n",
            "Test set: Avg. loss: 0.1278, Accuracy: 9596/10000 (96%)\n",
            "\n",
            "Train Epoch: 2 [0/60000]\tLoss: 0.179822\n",
            "Train Epoch: 2 [640/60000]\tLoss: 0.110633\n",
            "Train Epoch: 2 [1280/60000]\tLoss: 0.167322\n",
            "Train Epoch: 2 [1920/60000]\tLoss: 0.256298\n",
            "Train Epoch: 2 [2560/60000]\tLoss: 0.283522\n",
            "Train Epoch: 2 [3200/60000]\tLoss: 0.212925\n",
            "Train Epoch: 2 [3840/60000]\tLoss: 0.200418\n",
            "Train Epoch: 2 [4480/60000]\tLoss: 0.253456\n",
            "Train Epoch: 2 [5120/60000]\tLoss: 0.175707\n",
            "Train Epoch: 2 [5760/60000]\tLoss: 0.309544\n",
            "Train Epoch: 2 [6400/60000]\tLoss: 0.303354\n",
            "Train Epoch: 2 [7040/60000]\tLoss: 0.251650\n",
            "Train Epoch: 2 [7680/60000]\tLoss: 0.272543\n",
            "Train Epoch: 2 [8320/60000]\tLoss: 0.181465\n",
            "Train Epoch: 2 [8960/60000]\tLoss: 0.264093\n",
            "Train Epoch: 2 [9600/60000]\tLoss: 0.201331\n",
            "Train Epoch: 2 [10240/60000]\tLoss: 0.195202\n",
            "Train Epoch: 2 [10880/60000]\tLoss: 0.219246\n",
            "Train Epoch: 2 [11520/60000]\tLoss: 0.289861\n",
            "Train Epoch: 2 [12160/60000]\tLoss: 0.149294\n",
            "Train Epoch: 2 [12800/60000]\tLoss: 0.177407\n",
            "Train Epoch: 2 [13440/60000]\tLoss: 0.142351\n",
            "Train Epoch: 2 [14080/60000]\tLoss: 0.191709\n",
            "Train Epoch: 2 [14720/60000]\tLoss: 0.139751\n",
            "Train Epoch: 2 [15360/60000]\tLoss: 0.276600\n",
            "Train Epoch: 2 [16000/60000]\tLoss: 0.126886\n",
            "Train Epoch: 2 [16640/60000]\tLoss: 0.227057\n",
            "Train Epoch: 2 [17280/60000]\tLoss: 0.185403\n",
            "Train Epoch: 2 [17920/60000]\tLoss: 0.139450\n",
            "Train Epoch: 2 [18560/60000]\tLoss: 0.208510\n",
            "Train Epoch: 2 [19200/60000]\tLoss: 0.095013\n",
            "Train Epoch: 2 [19840/60000]\tLoss: 0.204123\n",
            "Train Epoch: 2 [20480/60000]\tLoss: 0.113821\n",
            "Train Epoch: 2 [21120/60000]\tLoss: 0.253112\n",
            "Train Epoch: 2 [21760/60000]\tLoss: 0.203496\n",
            "Train Epoch: 2 [22400/60000]\tLoss: 0.228763\n",
            "Train Epoch: 2 [23040/60000]\tLoss: 0.217002\n",
            "Train Epoch: 2 [23680/60000]\tLoss: 0.324964\n",
            "Train Epoch: 2 [24320/60000]\tLoss: 0.207782\n",
            "Train Epoch: 2 [24960/60000]\tLoss: 0.137751\n",
            "Train Epoch: 2 [25600/60000]\tLoss: 0.067314\n",
            "Train Epoch: 2 [26240/60000]\tLoss: 0.185914\n",
            "Train Epoch: 2 [26880/60000]\tLoss: 0.132617\n",
            "Train Epoch: 2 [27520/60000]\tLoss: 0.196082\n",
            "Train Epoch: 2 [28160/60000]\tLoss: 0.143670\n",
            "Train Epoch: 2 [28800/60000]\tLoss: 0.248479\n",
            "Train Epoch: 2 [29440/60000]\tLoss: 0.062722\n",
            "Train Epoch: 2 [30080/60000]\tLoss: 0.358507\n",
            "Train Epoch: 2 [30720/60000]\tLoss: 0.335582\n",
            "Train Epoch: 2 [31360/60000]\tLoss: 0.214553\n",
            "Train Epoch: 2 [32000/60000]\tLoss: 0.306186\n",
            "Train Epoch: 2 [32640/60000]\tLoss: 0.077112\n",
            "Train Epoch: 2 [33280/60000]\tLoss: 0.053518\n",
            "Train Epoch: 2 [33920/60000]\tLoss: 0.145924\n",
            "Train Epoch: 2 [34560/60000]\tLoss: 0.408809\n",
            "Train Epoch: 2 [35200/60000]\tLoss: 0.210091\n",
            "Train Epoch: 2 [35840/60000]\tLoss: 0.257477\n",
            "Train Epoch: 2 [36480/60000]\tLoss: 0.242063\n",
            "Train Epoch: 2 [37120/60000]\tLoss: 0.150798\n",
            "Train Epoch: 2 [37760/60000]\tLoss: 0.157661\n",
            "Train Epoch: 2 [38400/60000]\tLoss: 0.299053\n",
            "Train Epoch: 2 [39040/60000]\tLoss: 0.143935\n",
            "Train Epoch: 2 [39680/60000]\tLoss: 0.126784\n",
            "Train Epoch: 2 [40320/60000]\tLoss: 0.204069\n",
            "Train Epoch: 2 [40960/60000]\tLoss: 0.113964\n",
            "Train Epoch: 2 [41600/60000]\tLoss: 0.314412\n",
            "Train Epoch: 2 [42240/60000]\tLoss: 0.183598\n",
            "Train Epoch: 2 [42880/60000]\tLoss: 0.054236\n",
            "Train Epoch: 2 [43520/60000]\tLoss: 0.160673\n",
            "Train Epoch: 2 [44160/60000]\tLoss: 0.292099\n",
            "Train Epoch: 2 [44800/60000]\tLoss: 0.222713\n",
            "Train Epoch: 2 [45440/60000]\tLoss: 0.109352\n",
            "Train Epoch: 2 [46080/60000]\tLoss: 0.145751\n",
            "Train Epoch: 2 [46720/60000]\tLoss: 0.063559\n",
            "Train Epoch: 2 [47360/60000]\tLoss: 0.209305\n",
            "Train Epoch: 2 [48000/60000]\tLoss: 0.360638\n",
            "Train Epoch: 2 [48640/60000]\tLoss: 0.136565\n",
            "Train Epoch: 2 [49280/60000]\tLoss: 0.207002\n",
            "Train Epoch: 2 [49920/60000]\tLoss: 0.213893\n",
            "Train Epoch: 2 [50560/60000]\tLoss: 0.260359\n",
            "Train Epoch: 2 [51200/60000]\tLoss: 0.273085\n",
            "Train Epoch: 2 [51840/60000]\tLoss: 0.294145\n",
            "Train Epoch: 2 [52480/60000]\tLoss: 0.142804\n",
            "Train Epoch: 2 [53120/60000]\tLoss: 0.093302\n",
            "Train Epoch: 2 [53760/60000]\tLoss: 0.259004\n",
            "Train Epoch: 2 [54400/60000]\tLoss: 0.179505\n",
            "Train Epoch: 2 [55040/60000]\tLoss: 0.147136\n",
            "Train Epoch: 2 [55680/60000]\tLoss: 0.359331\n",
            "Train Epoch: 2 [56320/60000]\tLoss: 0.184485\n",
            "Train Epoch: 2 [56960/60000]\tLoss: 0.399465\n",
            "Train Epoch: 2 [57600/60000]\tLoss: 0.090871\n",
            "Train Epoch: 2 [58240/60000]\tLoss: 0.158328\n",
            "Train Epoch: 2 [58880/60000]\tLoss: 0.116531\n",
            "Train Epoch: 2 [59520/60000]\tLoss: 0.212346\n",
            "\n",
            "Test set: Avg. loss: 0.0889, Accuracy: 9727/10000 (97%)\n",
            "\n",
            "Train Epoch: 3 [0/60000]\tLoss: 0.246469\n",
            "Train Epoch: 3 [640/60000]\tLoss: 0.164138\n",
            "Train Epoch: 3 [1280/60000]\tLoss: 0.146468\n",
            "Train Epoch: 3 [1920/60000]\tLoss: 0.191707\n",
            "Train Epoch: 3 [2560/60000]\tLoss: 0.260865\n",
            "Train Epoch: 3 [3200/60000]\tLoss: 0.092335\n",
            "Train Epoch: 3 [3840/60000]\tLoss: 0.227417\n",
            "Train Epoch: 3 [4480/60000]\tLoss: 0.070102\n",
            "Train Epoch: 3 [5120/60000]\tLoss: 0.108824\n",
            "Train Epoch: 3 [5760/60000]\tLoss: 0.087669\n",
            "Train Epoch: 3 [6400/60000]\tLoss: 0.235849\n",
            "Train Epoch: 3 [7040/60000]\tLoss: 0.109464\n",
            "Train Epoch: 3 [7680/60000]\tLoss: 0.136402\n",
            "Train Epoch: 3 [8320/60000]\tLoss: 0.266658\n",
            "Train Epoch: 3 [8960/60000]\tLoss: 0.532750\n",
            "Train Epoch: 3 [9600/60000]\tLoss: 0.233376\n",
            "Train Epoch: 3 [10240/60000]\tLoss: 0.139029\n",
            "Train Epoch: 3 [10880/60000]\tLoss: 0.175899\n",
            "Train Epoch: 3 [11520/60000]\tLoss: 0.316891\n",
            "Train Epoch: 3 [12160/60000]\tLoss: 0.045245\n",
            "Train Epoch: 3 [12800/60000]\tLoss: 0.159247\n",
            "Train Epoch: 3 [13440/60000]\tLoss: 0.261944\n",
            "Train Epoch: 3 [14080/60000]\tLoss: 0.164512\n",
            "Train Epoch: 3 [14720/60000]\tLoss: 0.148831\n",
            "Train Epoch: 3 [15360/60000]\tLoss: 0.339916\n",
            "Train Epoch: 3 [16000/60000]\tLoss: 0.259382\n",
            "Train Epoch: 3 [16640/60000]\tLoss: 0.096403\n",
            "Train Epoch: 3 [17280/60000]\tLoss: 0.063013\n",
            "Train Epoch: 3 [17920/60000]\tLoss: 0.191507\n",
            "Train Epoch: 3 [18560/60000]\tLoss: 0.329735\n",
            "Train Epoch: 3 [19200/60000]\tLoss: 0.166505\n",
            "Train Epoch: 3 [19840/60000]\tLoss: 0.110091\n",
            "Train Epoch: 3 [20480/60000]\tLoss: 0.199926\n",
            "Train Epoch: 3 [21120/60000]\tLoss: 0.083308\n",
            "Train Epoch: 3 [21760/60000]\tLoss: 0.081091\n",
            "Train Epoch: 3 [22400/60000]\tLoss: 0.264046\n",
            "Train Epoch: 3 [23040/60000]\tLoss: 0.206659\n",
            "Train Epoch: 3 [23680/60000]\tLoss: 0.051366\n",
            "Train Epoch: 3 [24320/60000]\tLoss: 0.146702\n",
            "Train Epoch: 3 [24960/60000]\tLoss: 0.154996\n",
            "Train Epoch: 3 [25600/60000]\tLoss: 0.213338\n",
            "Train Epoch: 3 [26240/60000]\tLoss: 0.184259\n",
            "Train Epoch: 3 [26880/60000]\tLoss: 0.264799\n",
            "Train Epoch: 3 [27520/60000]\tLoss: 0.135276\n",
            "Train Epoch: 3 [28160/60000]\tLoss: 0.079823\n",
            "Train Epoch: 3 [28800/60000]\tLoss: 0.228899\n",
            "Train Epoch: 3 [29440/60000]\tLoss: 0.175458\n",
            "Train Epoch: 3 [30080/60000]\tLoss: 0.181841\n",
            "Train Epoch: 3 [30720/60000]\tLoss: 0.113005\n",
            "Train Epoch: 3 [31360/60000]\tLoss: 0.052670\n",
            "Train Epoch: 3 [32000/60000]\tLoss: 0.244779\n",
            "Train Epoch: 3 [32640/60000]\tLoss: 0.153920\n",
            "Train Epoch: 3 [33280/60000]\tLoss: 0.091284\n",
            "Train Epoch: 3 [33920/60000]\tLoss: 0.148633\n",
            "Train Epoch: 3 [34560/60000]\tLoss: 0.219831\n",
            "Train Epoch: 3 [35200/60000]\tLoss: 0.172480\n",
            "Train Epoch: 3 [35840/60000]\tLoss: 0.183640\n",
            "Train Epoch: 3 [36480/60000]\tLoss: 0.351963\n",
            "Train Epoch: 3 [37120/60000]\tLoss: 0.176409\n",
            "Train Epoch: 3 [37760/60000]\tLoss: 0.114585\n",
            "Train Epoch: 3 [38400/60000]\tLoss: 0.114072\n",
            "Train Epoch: 3 [39040/60000]\tLoss: 0.132556\n",
            "Train Epoch: 3 [39680/60000]\tLoss: 0.094227\n",
            "Train Epoch: 3 [40320/60000]\tLoss: 0.232853\n",
            "Train Epoch: 3 [40960/60000]\tLoss: 0.127237\n",
            "Train Epoch: 3 [41600/60000]\tLoss: 0.177905\n",
            "Train Epoch: 3 [42240/60000]\tLoss: 0.058857\n",
            "Train Epoch: 3 [42880/60000]\tLoss: 0.167011\n",
            "Train Epoch: 3 [43520/60000]\tLoss: 0.076878\n",
            "Train Epoch: 3 [44160/60000]\tLoss: 0.034678\n",
            "Train Epoch: 3 [44800/60000]\tLoss: 0.102099\n",
            "Train Epoch: 3 [45440/60000]\tLoss: 0.118787\n",
            "Train Epoch: 3 [46080/60000]\tLoss: 0.138321\n",
            "Train Epoch: 3 [46720/60000]\tLoss: 0.234606\n",
            "Train Epoch: 3 [47360/60000]\tLoss: 0.067688\n",
            "Train Epoch: 3 [48000/60000]\tLoss: 0.217858\n",
            "Train Epoch: 3 [48640/60000]\tLoss: 0.184731\n",
            "Train Epoch: 3 [49280/60000]\tLoss: 0.129473\n",
            "Train Epoch: 3 [49920/60000]\tLoss: 0.144721\n",
            "Train Epoch: 3 [50560/60000]\tLoss: 0.085544\n",
            "Train Epoch: 3 [51200/60000]\tLoss: 0.252393\n",
            "Train Epoch: 3 [51840/60000]\tLoss: 0.161700\n",
            "Train Epoch: 3 [52480/60000]\tLoss: 0.161185\n",
            "Train Epoch: 3 [53120/60000]\tLoss: 0.164622\n",
            "Train Epoch: 3 [53760/60000]\tLoss: 0.102888\n",
            "Train Epoch: 3 [54400/60000]\tLoss: 0.308554\n",
            "Train Epoch: 3 [55040/60000]\tLoss: 0.069357\n",
            "Train Epoch: 3 [55680/60000]\tLoss: 0.135650\n",
            "Train Epoch: 3 [56320/60000]\tLoss: 0.133171\n",
            "Train Epoch: 3 [56960/60000]\tLoss: 0.133543\n",
            "Train Epoch: 3 [57600/60000]\tLoss: 0.109134\n",
            "Train Epoch: 3 [58240/60000]\tLoss: 0.244436\n",
            "Train Epoch: 3 [58880/60000]\tLoss: 0.221094\n",
            "Train Epoch: 3 [59520/60000]\tLoss: 0.215813\n",
            "\n",
            "Test set: Avg. loss: 0.0663, Accuracy: 9790/10000 (98%)\n",
            "\n"
          ]
        }
      ],
      "source": [
        "# Get initial performance\n",
        "test()\n",
        "# Train for three epochs\n",
        "n_epochs = 3\n",
        "for epoch in range(1, n_epochs + 1):\n",
        "  train(epoch)\n",
        "  test()"
      ]
    },
    {
      "cell_type": "code",
      "execution_count": 10,
      "metadata": {
        "colab": {
          "base_uri": "https://localhost:8080/",
          "height": 473
        },
        "id": "o7fRUAy9Se1B",
        "outputId": "4e69630f-d61b-4de5-f505-a77b11f20356"
      },
      "outputs": [
        {
          "name": "stderr",
          "output_type": "stream",
          "text": [
            "<ipython-input-4-44c2b231bb59>:23: UserWarning: Implicit dimension choice for log_softmax has been deprecated. Change the call to include dim=X as an argument.\n",
            "  x = F.log_softmax(x)\n"
          ]
        },
        {
          "data": {
            "image/png": "[encoded data removed]",
            "text/plain": [
              "<Figure size 640x480 with 6 Axes>"
            ]
          },
          "metadata": {},
          "output_type": "display_data"
        }
      ],
      "source": [
        "# Run network on data we got before and show predictions\n",
        "output = model(example_data)\n",
        "\n",
        "fig = plt.figure()\n",
        "for i in range(6):\n",
        "  plt.subplot(2,3,i+1)\n",
        "  plt.tight_layout()\n",
        "  plt.imshow(example_data[i][0], cmap='gray', interpolation='none')\n",
        "  plt.title(\"Prediction: {}\".format(\n",
        "    output.data.max(1, keepdim=True)[1][i].item()))\n",
        "  plt.xticks([])\n",
        "  plt.yticks([])\n",
        "plt.show()"
      ]
    },
    {
      "cell_type": "markdown",
      "metadata": {
        "id": "EabuoMdP32Hd"
      },
      "source": [
        "This is the code that does the adversarial attack. It is adapted from [here](https://pytorch.org/tutorials/beginner/fgsm_tutorial.html).   It is an example of the fast gradient sign method (FGSM), which modifies the data by\n",
        "\n",
        "\n",
        "\n",
        "*   Calculating the derivative $\\partial L/\\partial \\mathbf{x}$ of the loss $L$ with respect to the input data $\\mathbf{x}$.\n",
        "*   Finds the sign of the gradient at each point (making a tensor the same size as $\\mathbf{x}$ with a one where it was positive and minus one where it was negative.  \n",
        "*   Multiplying this vector by $\\epsilon$ and adding it back to the original data\n",
        "\n",
        "\n"
      ]
    },
    {
      "cell_type": "code",
      "execution_count": 15,
      "metadata": {
        "id": "gAX7tnld46q1"
      },
      "outputs": [],
      "source": [
        "# FGSM attack code.\n",
        "def fgsm_attack(x, epsilon, dLdx):\n",
        "    # TODO -- write this function\n",
        "    # Get the sign of the gradient\n",
        "    # Add epsilon times the size of gradient to x\n",
        "    # Replace this line\n",
        "    sign_dLdx = torch.sign(dLdx)\n",
        "    # Create the perturbed image by adjusting each pixel of the input image\n",
        "    x_modified = x + epsilon * sign_dLdx\n",
        "    # Ensure the modified image is still in the valid range [0, 1]\n",
        "    x_modified = torch.clamp(x_modified, 0, 1)\n",
        "    # Return the perturbed image\n",
        "    return x_modified"
      ]
    },
    {
      "cell_type": "code",
      "execution_count": 16,
      "metadata": {
        "colab": {
          "base_uri": "https://localhost:8080/",
          "height": 1000
        },
        "id": "AuNTYWboufbm",
        "outputId": "04d536b1-ffdd-4a18-ebb6-b2ad1fb31f19"
      },
      "outputs": [
        {
          "name": "stderr",
          "output_type": "stream",
          "text": [
            "<ipython-input-4-44c2b231bb59>:23: UserWarning: Implicit dimension choice for log_softmax has been deprecated. Change the call to include dim=X as an argument.\n",
            "  x = F.log_softmax(x)\n"
          ]
        },
        {
          "data": {
            "image/png": "[encoded data removed]",
            "text/plain": [
              "<Figure size 640x480 with 2 Axes>"
            ]
          },
          "metadata": {},
          "output_type": "display_data"
        },
        {
          "data": {
            "image/png": "[encoded data removed]",
            "text/plain": [
              "<Figure size 640x480 with 2 Axes>"
            ]
          },
          "metadata": {},
          "output_type": "display_data"
        },
        {
          "data": {
            "image/png": "[encoded data removed]",
            "text/plain": [
              "<Figure size 640x480 with 2 Axes>"
            ]
          },
          "metadata": {},
          "output_type": "display_data"
        }
      ],
      "source": [
        "no_examples = 3\n",
        "epsilon = 0.5\n",
        "for i in range(no_examples):\n",
        "  # Reset gradients\n",
        "  optimizer.zero_grad()\n",
        "\n",
        "  # Get the i'th data example\n",
        "  x = example_data[i,:,:,:]\n",
        "  # Add an extra dimension back to the beginning\n",
        "  x= x[None, :,:,:]\n",
        "  x.requires_grad = True\n",
        "  # Get the i'th target\n",
        "  y = torch.ones(1, dtype=torch.long) * example_targets[i]\n",
        "\n",
        "  # Run the model\n",
        "  output = model(x)\n",
        "  # Compute the loss\n",
        "  loss = F.nll_loss(output, y)\n",
        "  # Back propagate\n",
        "  loss.backward()\n",
        "\n",
        "  # Collect ``datagrad``\n",
        "  dLdx = x.grad.data\n",
        "\n",
        "  # Call FGSM Attack\n",
        "  x_prime = fgsm_attack(x, epsilon, dLdx)\n",
        "\n",
        "  # Re-classify the perturbed image\n",
        "  output_prime = model(x_prime)\n",
        "\n",
        "  x = x.detach().numpy()\n",
        "  fig = plt.figure()\n",
        "  plt.subplot(1,2,1)\n",
        "  plt.tight_layout()\n",
        "  plt.imshow(x[0][0], cmap='gray', interpolation='none')\n",
        "  plt.title(\"Original Prediction: {}\".format(\n",
        "    output.data.max(1, keepdim=True)[1][0].item()))\n",
        "  plt.xticks([])\n",
        "  plt.yticks([])\n",
        "\n",
        "  plt.subplot(1,2,2)\n",
        "  plt.tight_layout()\n",
        "  plt.imshow(x_prime[0][0].detach().numpy(), cmap='gray', interpolation='none')\n",
        "  plt.title(\"Perturbed Prediction: {}\".format(\n",
        "    output_prime.data.max(1, keepdim=True)[1][0].item()))\n",
        "  plt.xticks([])\n",
        "  plt.yticks([])\n",
        "\n",
        "plt.show()"
      ]
    },
    {
      "cell_type": "markdown",
      "metadata": {
        "id": "vFXWK826HPQ8"
      },
      "source": [
        "Although we have only added a small amount of noise, the model is fooled into thinking that these images come from a different class.\n",
        "\n",
        "TODO -- Modify the attack so that it iteratively perturbs the data. i.e., so we take a small step epsilon, then re-calculate the gradient and take another small step according to the new gradient signs."
      ]
    }
  ],
  "metadata": {
    "colab": {
      "provenance": []
    },
    "kernelspec": {
      "display_name": "Python 3",
      "name": "python3"
    },
    "language_info": {
      "name": "python"
    }
  },
  "nbformat": 4,
  "nbformat_minor": 0
}
