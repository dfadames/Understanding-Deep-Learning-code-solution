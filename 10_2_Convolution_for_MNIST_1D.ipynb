{
  "nbformat": 4,
  "nbformat_minor": 0,
  "metadata": {
    "colab": {
      "provenance": []
    },
    "kernelspec": {
      "name": "python3",
      "display_name": "Python 3"
    },
    "language_info": {
      "name": "python"
    }
  },
  "cells": [
    {
      "cell_type": "markdown",
      "metadata": {
        "id": "view-in-github"
      },
      "source": [
        "<a href=\"https://colab.research.google.com/github/udlbook/udlbook/blob/main/Notebooks/Chap10/10_2_Convolution_for_MNIST_1D.ipynb\" target=\"_parent\"><img src=\"https://colab.research.google.com/assets/colab-badge.svg\" alt=\"Open In Colab\"/></a>"
      ]
    },
    {
      "cell_type": "markdown",
      "source": [
        "# **Notebook 10.2: Convolution for MNIST-1D**\n",
        "\n",
        "This notebook investigates a 1D convolutional network for MNIST-1D as in figure 10.7 and 10.8a.\n",
        "\n",
        "Work through the cells below, running each cell in turn. In various places you will see the words \"TO DO\". Follow the instructions at these places and make predictions about what is going to happen or write code to complete the functions.\n",
        "\n",
        "Contact me at udlbookmail@gmail.com if you find any mistakes or have any suggestions.\n",
        "\n"
      ],
      "metadata": {
        "id": "t9vk9Elugvmi"
      }
    },
    {
      "cell_type": "code",
      "source": [
        "# Run this if you're in a Colab to install MNIST 1D repository\n",
        "!pip install git+https://github.com/greydanus/mnist1d"
      ],
      "metadata": {
        "id": "D5yLObtZCi9J",
        "colab": {
          "base_uri": "https://localhost:8080/"
        },
        "outputId": "b1b50ab5-acaa-4a2c-f023-d90425b94350"
      },
      "execution_count": 1,
      "outputs": [
        {
          "output_type": "stream",
          "name": "stdout",
          "text": [
            "Collecting git+https://github.com/greydanus/mnist1d\n",
            "  Cloning https://github.com/greydanus/mnist1d to /tmp/pip-req-build-he6g_tqq\n",
            "  Running command git clone --filter=blob:none --quiet https://github.com/greydanus/mnist1d /tmp/pip-req-build-he6g_tqq\n",
            "  Resolved https://github.com/greydanus/mnist1d to commit 350929d12f4c9a4b7355e0c96604e41b9239bdb4\n",
            "  Installing build dependencies ... \u001b[?25l\u001b[?25hdone\n",
            "  Getting requirements to build wheel ... \u001b[?25l\u001b[?25hdone\n",
            "  Preparing metadata (pyproject.toml) ... \u001b[?25l\u001b[?25hdone\n",
            "Requirement already satisfied: requests in /usr/local/lib/python3.10/dist-packages (from mnist1d==0.0.2.post9) (2.32.3)\n",
            "Requirement already satisfied: numpy in /usr/local/lib/python3.10/dist-packages (from mnist1d==0.0.2.post9) (1.26.4)\n",
            "Requirement already satisfied: matplotlib in /usr/local/lib/python3.10/dist-packages (from mnist1d==0.0.2.post9) (3.7.1)\n",
            "Requirement already satisfied: scipy in /usr/local/lib/python3.10/dist-packages (from mnist1d==0.0.2.post9) (1.13.1)\n",
            "Requirement already satisfied: contourpy>=1.0.1 in /usr/local/lib/python3.10/dist-packages (from matplotlib->mnist1d==0.0.2.post9) (1.2.1)\n",
            "Requirement already satisfied: cycler>=0.10 in /usr/local/lib/python3.10/dist-packages (from matplotlib->mnist1d==0.0.2.post9) (0.12.1)\n",
            "Requirement already satisfied: fonttools>=4.22.0 in /usr/local/lib/python3.10/dist-packages (from matplotlib->mnist1d==0.0.2.post9) (4.53.1)\n",
            "Requirement already satisfied: kiwisolver>=1.0.1 in /usr/local/lib/python3.10/dist-packages (from matplotlib->mnist1d==0.0.2.post9) (1.4.5)\n",
            "Requirement already satisfied: packaging>=20.0 in /usr/local/lib/python3.10/dist-packages (from matplotlib->mnist1d==0.0.2.post9) (24.1)\n",
            "Requirement already satisfied: pillow>=6.2.0 in /usr/local/lib/python3.10/dist-packages (from matplotlib->mnist1d==0.0.2.post9) (9.4.0)\n",
            "Requirement already satisfied: pyparsing>=2.3.1 in /usr/local/lib/python3.10/dist-packages (from matplotlib->mnist1d==0.0.2.post9) (3.1.2)\n",
            "Requirement already satisfied: python-dateutil>=2.7 in /usr/local/lib/python3.10/dist-packages (from matplotlib->mnist1d==0.0.2.post9) (2.8.2)\n",
            "Requirement already satisfied: charset-normalizer<4,>=2 in /usr/local/lib/python3.10/dist-packages (from requests->mnist1d==0.0.2.post9) (3.3.2)\n",
            "Requirement already satisfied: idna<4,>=2.5 in /usr/local/lib/python3.10/dist-packages (from requests->mnist1d==0.0.2.post9) (3.7)\n",
            "Requirement already satisfied: urllib3<3,>=1.21.1 in /usr/local/lib/python3.10/dist-packages (from requests->mnist1d==0.0.2.post9) (2.0.7)\n",
            "Requirement already satisfied: certifi>=2017.4.17 in /usr/local/lib/python3.10/dist-packages (from requests->mnist1d==0.0.2.post9) (2024.7.4)\n",
            "Requirement already satisfied: six>=1.5 in /usr/local/lib/python3.10/dist-packages (from python-dateutil>=2.7->matplotlib->mnist1d==0.0.2.post9) (1.16.0)\n",
            "Building wheels for collected packages: mnist1d\n",
            "  Building wheel for mnist1d (pyproject.toml) ... \u001b[?25l\u001b[?25hdone\n",
            "  Created wheel for mnist1d: filename=mnist1d-0.0.2.post9-py3-none-any.whl size=14496 sha256=a6ed1433a69121ecede30ba61c42ae78b1bfc791ddcb3f8b7a68d1892c2cdc60\n",
            "  Stored in directory: /tmp/pip-ephem-wheel-cache-gi7jb0uo/wheels/41/95/55/45fcf7d38cfa97e35682da6c5017d4513729131326ce935371\n",
            "Successfully built mnist1d\n",
            "Installing collected packages: mnist1d\n",
            "Successfully installed mnist1d-0.0.2.post9\n"
          ]
        }
      ]
    },
    {
      "cell_type": "code",
      "source": [
        "import numpy as np\n",
        "import os\n",
        "import torch, torch.nn as nn\n",
        "from torch.utils.data import TensorDataset, DataLoader\n",
        "from torch.optim.lr_scheduler import StepLR\n",
        "import matplotlib.pyplot as plt\n",
        "import mnist1d\n",
        "import random"
      ],
      "metadata": {
        "id": "YrXWAH7sUWvU"
      },
      "execution_count": 2,
      "outputs": []
    },
    {
      "cell_type": "code",
      "source": [
        "args = mnist1d.data.get_dataset_args()\n",
        "data = mnist1d.data.get_dataset(args, path='./mnist1d_data.pkl', download=False, regenerate=False)\n",
        "\n",
        "# The training and test input and outputs are in\n",
        "# data['x'], data['y'], data['x_test'], and data['y_test']\n",
        "print(\"Examples in training set: {}\".format(len(data['y'])))\n",
        "print(\"Examples in test set: {}\".format(len(data['y_test'])))\n",
        "print(\"Length of each example: {}\".format(data['x'].shape[-1]))"
      ],
      "metadata": {
        "id": "twI72ZCrCt5z",
        "colab": {
          "base_uri": "https://localhost:8080/"
        },
        "outputId": "40e4d4eb-190a-4d94-bddf-3c5c0a64c8bc"
      },
      "execution_count": 3,
      "outputs": [
        {
          "output_type": "stream",
          "name": "stdout",
          "text": [
            "Did or could not load data from ./mnist1d_data.pkl. Rebuilding dataset...\n",
            "Examples in training set: 4000\n",
            "Examples in test set: 1000\n",
            "Length of each example: 40\n"
          ]
        }
      ]
    },
    {
      "cell_type": "code",
      "source": [
        "# Load in the data\n",
        "train_data_x = data['x'].transpose()\n",
        "train_data_y = data['y']\n",
        "val_data_x = data['x_test'].transpose()\n",
        "val_data_y = data['y_test']\n",
        "# Print out sizes\n",
        "print(\"Train data: %d examples (columns), each of which has %d dimensions (rows)\"%((train_data_x.shape[1],train_data_x.shape[0])))\n",
        "print(\"Validation data: %d examples (columns), each of which has %d dimensions (rows)\"%((val_data_x.shape[1],val_data_x.shape[0])))"
      ],
      "metadata": {
        "id": "8bKADvLHbiV5",
        "colab": {
          "base_uri": "https://localhost:8080/"
        },
        "outputId": "508bcb67-66dd-4e27-a9e8-1f2bbcff7b25"
      },
      "execution_count": 4,
      "outputs": [
        {
          "output_type": "stream",
          "name": "stdout",
          "text": [
            "Train data: 4000 examples (columns), each of which has 40 dimensions (rows)\n",
            "Validation data: 1000 examples (columns), each of which has 40 dimensions (rows)\n"
          ]
        }
      ]
    },
    {
      "cell_type": "markdown",
      "source": [
        "Define the network"
      ],
      "metadata": {
        "id": "_sFvRDGrl4qe"
      }
    },
    {
      "cell_type": "code",
      "source": [
        "# There are 40 input dimensions and 10 output dimensions for this data\n",
        "# The inputs correspond to the 40 offsets in the MNIST1D template.\n",
        "D_i = 40\n",
        "# The outputs correspond to the 10 digits\n",
        "D_o = 10\n",
        "\n",
        "# References:\n",
        "# https://pytorch.org/docs/1.13/generated/torch.nn.Conv1d.html?highlight=conv1d#torch.nn.Conv1d\n",
        "# https://pytorch.org/docs/stable/generated/torch.nn.Flatten.html\n",
        "# https://pytorch.org/docs/1.13/generated/torch.nn.Linear.html?highlight=linear#torch.nn.Linear\n",
        "\n",
        "# NOTE THAT THE CONVOLUTIONAL LAYERS NEED TO TAKE THE NUMBER OF INPUT CHANNELS AS A PARAMETER\n",
        "# AND NOT THE INPUT SIZE.\n",
        "model = nn.Sequential(\n",
        "    # 1. Convolutional layer (input length 40, 1 channel, kernel size 3, stride 2, padding \"valid\", 15 output channels)\n",
        "    nn.Conv1d(in_channels=1, out_channels=15, kernel_size=3, stride=2, padding=0),\n",
        "    # 2. ReLU\n",
        "    nn.ReLU(),\n",
        "    # 3. Convolutional layer (input length 19, 15 channels, kernel size 3, stride 2, padding \"valid\", 15 output channels)\n",
        "    nn.Conv1d(in_channels=15, out_channels=15, kernel_size=3, stride=2, padding=0),\n",
        "    # 4. ReLU\n",
        "    nn.ReLU(),\n",
        "    # 5. Convolutional layer (input length 9, 15 channels, kernel size 3, stride 2, padding \"valid\", 15 output channels)\n",
        "    nn.Conv1d(in_channels=15, out_channels=15, kernel_size=3, stride=2, padding=0),\n",
        "    # 6. ReLU\n",
        "    nn.ReLU(),\n",
        "    # 7. Flatten (converts 4x15 to length 60)\n",
        "    nn.Flatten(),\n",
        "    # 8. Linear layer (input size = 60, output size = 10)\n",
        "    nn.Linear(in_features=60, out_features=10)\n",
        ")\n",
        "\n",
        "\n"
      ],
      "metadata": {
        "id": "FslroPJJffrh"
      },
      "execution_count": 7,
      "outputs": []
    },
    {
      "cell_type": "code",
      "source": [
        "# He initialization of weights\n",
        "def weights_init(layer_in):\n",
        "  if isinstance(layer_in, nn.Linear):\n",
        "    nn.init.kaiming_uniform_(layer_in.weight)\n",
        "    layer_in.bias.data.fill_(0.0)"
      ],
      "metadata": {
        "id": "YgLaex1pfhqz"
      },
      "execution_count": 8,
      "outputs": []
    },
    {
      "cell_type": "code",
      "source": [
        "# choose cross entropy loss function (equation 5.24 in the loss notes)\n",
        "loss_function = nn.CrossEntropyLoss()\n",
        "# construct SGD optimizer and initialize learning rate and momentum\n",
        "optimizer = torch.optim.SGD(model.parameters(), lr = 0.05, momentum=0.9)\n",
        "# object that decreases learning rate by half every 20 epochs\n",
        "scheduler = StepLR(optimizer, step_size=20, gamma=0.5)\n",
        "# create 100 dummy data points and store in data loader class\n",
        "x_train = torch.tensor(train_data_x.transpose().astype('float32'))\n",
        "y_train = torch.tensor(train_data_y.astype('long')).long()\n",
        "x_val= torch.tensor(val_data_x.transpose().astype('float32'))\n",
        "y_val = torch.tensor(val_data_y.astype('long')).long()\n",
        "\n",
        "# load the data into a class that creates the batches\n",
        "data_loader = DataLoader(TensorDataset(x_train,y_train), batch_size=100, shuffle=True, worker_init_fn=np.random.seed(1))\n",
        "\n",
        "# Initialize model weights\n",
        "model.apply(weights_init)\n",
        "\n",
        "# loop over the dataset n_epoch times\n",
        "n_epoch = 100\n",
        "# store the loss and the % correct at each epoch\n",
        "losses_train = np.zeros((n_epoch))\n",
        "errors_train = np.zeros((n_epoch))\n",
        "losses_val = np.zeros((n_epoch))\n",
        "errors_val = np.zeros((n_epoch))\n",
        "\n",
        "for epoch in range(n_epoch):\n",
        "  # loop over batches\n",
        "  for i, data in enumerate(data_loader):\n",
        "    # retrieve inputs and labels for this batch\n",
        "    x_batch, y_batch = data\n",
        "    # zero the parameter gradients\n",
        "    optimizer.zero_grad()\n",
        "    # forward pass -- calculate model output\n",
        "    pred = model(x_batch[:,None,:])\n",
        "    # compute the loss\n",
        "    loss = loss_function(pred, y_batch)\n",
        "    # backward pass\n",
        "    loss.backward()\n",
        "    # SGD update\n",
        "    optimizer.step()\n",
        "\n",
        "  # Run whole dataset to get statistics -- normally wouldn't do this\n",
        "  pred_train = model(x_train[:,None,:])\n",
        "  pred_val = model(x_val[:,None,:])\n",
        "  _, predicted_train_class = torch.max(pred_train.data, 1)\n",
        "  _, predicted_val_class = torch.max(pred_val.data, 1)\n",
        "  errors_train[epoch] = 100 - 100 * (predicted_train_class == y_train).float().sum() / len(y_train)\n",
        "  errors_val[epoch]= 100 - 100 * (predicted_val_class == y_val).float().sum() / len(y_val)\n",
        "  losses_train[epoch] = loss_function(pred_train, y_train).item()\n",
        "  losses_val[epoch]= loss_function(pred_val, y_val).item()\n",
        "  print(f'Epoch {epoch:5d}, train loss {losses_train[epoch]:.6f}, train error {errors_train[epoch]:3.2f},  val loss {losses_val[epoch]:.6f}, percent error {errors_val[epoch]:3.2f}')\n",
        "\n",
        "  # tell scheduler to consider updating learning rate\n",
        "  scheduler.step()\n",
        "\n",
        "# Plot the results\n",
        "fig, ax = plt.subplots()\n",
        "ax.plot(errors_train,'r-',label='train')\n",
        "ax.plot(errors_val,'b-',label='validation')\n",
        "ax.set_ylim(0,100); ax.set_xlim(0,n_epoch)\n",
        "ax.set_xlabel('Epoch'); ax.set_ylabel('Error')\n",
        "ax.set_title('Part I: Validation Result %3.2f'%(errors_val[-1]))\n",
        "ax.legend()\n",
        "plt.show()"
      ],
      "metadata": {
        "id": "NYw8I_3mmX5c",
        "colab": {
          "base_uri": "https://localhost:8080/",
          "height": 1000
        },
        "outputId": "59c7b419-336f-4567-d9f7-12b4da1d9fd1"
      },
      "execution_count": 9,
      "outputs": [
        {
          "output_type": "stream",
          "name": "stdout",
          "text": [
            "Epoch     0, train loss 1.891719, train error 74.75,  val loss 1.897490, percent error 75.20\n",
            "Epoch     1, train loss 1.468217, train error 58.50,  val loss 1.481542, percent error 60.30\n",
            "Epoch     2, train loss 1.385014, train error 56.53,  val loss 1.382394, percent error 60.20\n",
            "Epoch     3, train loss 1.344290, train error 56.60,  val loss 1.380258, percent error 60.50\n",
            "Epoch     4, train loss 1.191305, train error 49.65,  val loss 1.214535, percent error 52.60\n",
            "Epoch     5, train loss 1.125244, train error 46.62,  val loss 1.172581, percent error 51.00\n",
            "Epoch     6, train loss 1.073596, train error 43.97,  val loss 1.116364, percent error 47.30\n",
            "Epoch     7, train loss 0.930409, train error 38.72,  val loss 0.990679, percent error 42.60\n",
            "Epoch     8, train loss 0.855969, train error 34.45,  val loss 0.898427, percent error 37.30\n",
            "Epoch     9, train loss 0.803464, train error 32.57,  val loss 0.844570, percent error 35.50\n",
            "Epoch    10, train loss 0.719940, train error 28.53,  val loss 0.785174, percent error 32.10\n",
            "Epoch    11, train loss 0.648691, train error 24.85,  val loss 0.711833, percent error 28.80\n",
            "Epoch    12, train loss 0.664600, train error 25.70,  val loss 0.738025, percent error 28.20\n",
            "Epoch    13, train loss 0.557768, train error 21.68,  val loss 0.681949, percent error 25.50\n",
            "Epoch    14, train loss 0.470727, train error 17.00,  val loss 0.574243, percent error 20.30\n",
            "Epoch    15, train loss 0.447913, train error 16.95,  val loss 0.564577, percent error 20.50\n",
            "Epoch    16, train loss 0.359586, train error 12.72,  val loss 0.480847, percent error 17.30\n",
            "Epoch    17, train loss 0.325304, train error 11.72,  val loss 0.458135, percent error 15.60\n",
            "Epoch    18, train loss 0.306397, train error 10.53,  val loss 0.438452, percent error 15.20\n",
            "Epoch    19, train loss 0.265482, train error 9.38,  val loss 0.421789, percent error 14.90\n",
            "Epoch    20, train loss 0.186787, train error 6.03,  val loss 0.353962, percent error 11.40\n",
            "Epoch    21, train loss 0.176948, train error 5.45,  val loss 0.337067, percent error 11.40\n",
            "Epoch    22, train loss 0.162791, train error 5.25,  val loss 0.322953, percent error 11.00\n",
            "Epoch    23, train loss 0.155596, train error 5.00,  val loss 0.337374, percent error 10.70\n",
            "Epoch    24, train loss 0.140154, train error 4.25,  val loss 0.323750, percent error 10.70\n",
            "Epoch    25, train loss 0.142496, train error 4.43,  val loss 0.341706, percent error 10.60\n",
            "Epoch    26, train loss 0.150421, train error 5.50,  val loss 0.357338, percent error 11.30\n",
            "Epoch    27, train loss 0.143303, train error 4.53,  val loss 0.340763, percent error 10.30\n",
            "Epoch    28, train loss 0.115308, train error 3.80,  val loss 0.319696, percent error 9.90\n",
            "Epoch    29, train loss 0.110833, train error 3.50,  val loss 0.338397, percent error 10.30\n",
            "Epoch    30, train loss 0.103181, train error 3.15,  val loss 0.329390, percent error 10.60\n",
            "Epoch    31, train loss 0.096414, train error 2.93,  val loss 0.335794, percent error 9.60\n",
            "Epoch    32, train loss 0.089751, train error 2.55,  val loss 0.323939, percent error 10.40\n",
            "Epoch    33, train loss 0.088439, train error 2.85,  val loss 0.348396, percent error 10.50\n",
            "Epoch    34, train loss 0.080982, train error 2.25,  val loss 0.301202, percent error 9.80\n",
            "Epoch    35, train loss 0.073203, train error 2.10,  val loss 0.318039, percent error 10.10\n",
            "Epoch    36, train loss 0.084774, train error 2.60,  val loss 0.347718, percent error 10.50\n",
            "Epoch    37, train loss 0.070571, train error 1.97,  val loss 0.346328, percent error 11.00\n",
            "Epoch    38, train loss 0.071795, train error 1.95,  val loss 0.347086, percent error 11.50\n",
            "Epoch    39, train loss 0.067221, train error 2.05,  val loss 0.333138, percent error 10.30\n",
            "Epoch    40, train loss 0.053380, train error 1.05,  val loss 0.333808, percent error 10.20\n",
            "Epoch    41, train loss 0.049378, train error 1.18,  val loss 0.338171, percent error 10.10\n",
            "Epoch    42, train loss 0.047743, train error 1.05,  val loss 0.349426, percent error 10.30\n",
            "Epoch    43, train loss 0.051476, train error 1.18,  val loss 0.355596, percent error 9.50\n",
            "Epoch    44, train loss 0.047444, train error 1.18,  val loss 0.351402, percent error 10.60\n",
            "Epoch    45, train loss 0.047468, train error 1.10,  val loss 0.359479, percent error 10.30\n",
            "Epoch    46, train loss 0.042530, train error 0.85,  val loss 0.362208, percent error 10.30\n",
            "Epoch    47, train loss 0.043402, train error 0.82,  val loss 0.365736, percent error 10.60\n",
            "Epoch    48, train loss 0.039864, train error 0.88,  val loss 0.365075, percent error 10.00\n",
            "Epoch    49, train loss 0.041150, train error 0.85,  val loss 0.367899, percent error 9.80\n",
            "Epoch    50, train loss 0.037546, train error 0.70,  val loss 0.369125, percent error 10.30\n",
            "Epoch    51, train loss 0.046108, train error 1.18,  val loss 0.390746, percent error 10.20\n",
            "Epoch    52, train loss 0.036669, train error 0.72,  val loss 0.382626, percent error 10.40\n",
            "Epoch    53, train loss 0.040856, train error 0.97,  val loss 0.389790, percent error 11.10\n",
            "Epoch    54, train loss 0.034236, train error 0.70,  val loss 0.391957, percent error 10.70\n",
            "Epoch    55, train loss 0.037567, train error 0.75,  val loss 0.390228, percent error 10.40\n",
            "Epoch    56, train loss 0.034850, train error 0.57,  val loss 0.377228, percent error 9.90\n",
            "Epoch    57, train loss 0.030834, train error 0.57,  val loss 0.393982, percent error 11.00\n",
            "Epoch    58, train loss 0.032570, train error 0.62,  val loss 0.398551, percent error 10.30\n",
            "Epoch    59, train loss 0.036849, train error 0.72,  val loss 0.414940, percent error 10.70\n",
            "Epoch    60, train loss 0.029603, train error 0.40,  val loss 0.404044, percent error 11.30\n",
            "Epoch    61, train loss 0.027862, train error 0.38,  val loss 0.403444, percent error 10.50\n",
            "Epoch    62, train loss 0.026797, train error 0.32,  val loss 0.400692, percent error 10.30\n",
            "Epoch    63, train loss 0.027795, train error 0.40,  val loss 0.410053, percent error 10.70\n",
            "Epoch    64, train loss 0.026785, train error 0.35,  val loss 0.413101, percent error 10.20\n",
            "Epoch    65, train loss 0.026739, train error 0.38,  val loss 0.412758, percent error 10.90\n",
            "Epoch    66, train loss 0.026770, train error 0.38,  val loss 0.412221, percent error 11.00\n",
            "Epoch    67, train loss 0.025245, train error 0.32,  val loss 0.412271, percent error 10.70\n",
            "Epoch    68, train loss 0.024727, train error 0.28,  val loss 0.412494, percent error 10.40\n",
            "Epoch    69, train loss 0.024819, train error 0.25,  val loss 0.417894, percent error 10.80\n",
            "Epoch    70, train loss 0.024383, train error 0.30,  val loss 0.411964, percent error 10.20\n",
            "Epoch    71, train loss 0.024307, train error 0.32,  val loss 0.420741, percent error 11.20\n",
            "Epoch    72, train loss 0.023345, train error 0.22,  val loss 0.421619, percent error 10.50\n",
            "Epoch    73, train loss 0.023503, train error 0.25,  val loss 0.421934, percent error 10.70\n",
            "Epoch    74, train loss 0.024914, train error 0.38,  val loss 0.429644, percent error 11.10\n",
            "Epoch    75, train loss 0.023328, train error 0.20,  val loss 0.430893, percent error 10.50\n",
            "Epoch    76, train loss 0.023144, train error 0.28,  val loss 0.427164, percent error 11.10\n",
            "Epoch    77, train loss 0.023030, train error 0.28,  val loss 0.429045, percent error 11.20\n",
            "Epoch    78, train loss 0.021658, train error 0.20,  val loss 0.429417, percent error 10.70\n",
            "Epoch    79, train loss 0.022517, train error 0.25,  val loss 0.434369, percent error 11.30\n",
            "Epoch    80, train loss 0.021198, train error 0.20,  val loss 0.431900, percent error 10.90\n",
            "Epoch    81, train loss 0.020922, train error 0.20,  val loss 0.432313, percent error 10.80\n",
            "Epoch    82, train loss 0.020764, train error 0.18,  val loss 0.431676, percent error 10.60\n",
            "Epoch    83, train loss 0.021219, train error 0.18,  val loss 0.430517, percent error 10.30\n",
            "Epoch    84, train loss 0.020598, train error 0.15,  val loss 0.435493, percent error 10.80\n",
            "Epoch    85, train loss 0.020846, train error 0.12,  val loss 0.436226, percent error 10.70\n",
            "Epoch    86, train loss 0.020226, train error 0.18,  val loss 0.435692, percent error 10.80\n",
            "Epoch    87, train loss 0.020132, train error 0.15,  val loss 0.433708, percent error 10.80\n",
            "Epoch    88, train loss 0.020514, train error 0.20,  val loss 0.438519, percent error 11.30\n",
            "Epoch    89, train loss 0.020784, train error 0.20,  val loss 0.440089, percent error 11.20\n",
            "Epoch    90, train loss 0.019856, train error 0.12,  val loss 0.436508, percent error 10.90\n",
            "Epoch    91, train loss 0.019750, train error 0.12,  val loss 0.439844, percent error 10.70\n",
            "Epoch    92, train loss 0.019747, train error 0.07,  val loss 0.438428, percent error 10.50\n",
            "Epoch    93, train loss 0.019860, train error 0.10,  val loss 0.441945, percent error 10.60\n",
            "Epoch    94, train loss 0.019565, train error 0.07,  val loss 0.444408, percent error 11.00\n",
            "Epoch    95, train loss 0.019289, train error 0.12,  val loss 0.442095, percent error 10.90\n",
            "Epoch    96, train loss 0.019335, train error 0.07,  val loss 0.442570, percent error 10.80\n",
            "Epoch    97, train loss 0.019343, train error 0.18,  val loss 0.442538, percent error 11.10\n",
            "Epoch    98, train loss 0.018906, train error 0.07,  val loss 0.443212, percent error 10.60\n",
            "Epoch    99, train loss 0.018819, train error 0.07,  val loss 0.443062, percent error 10.80\n"
          ]
        },
        {
          "output_type": "display_data",
          "data": {
            "text/plain": [
              "<Figure size 640x480 with 1 Axes>"
            ],
            "image/png": "[encoded data removed]"
          },
          "metadata": {}
        }
      ]
    }
  ]
}