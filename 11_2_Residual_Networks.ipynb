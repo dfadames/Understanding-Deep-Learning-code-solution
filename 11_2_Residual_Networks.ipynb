{
  "nbformat": 4,
  "nbformat_minor": 0,
  "metadata": {
    "colab": {
      "provenance": []
    },
    "kernelspec": {
      "name": "python3",
      "display_name": "Python 3"
    },
    "language_info": {
      "name": "python"
    }
  },
  "cells": [
    {
      "cell_type": "markdown",
      "metadata": {
        "id": "view-in-github"
      },
      "source": [
        "<a href=\"https://colab.research.google.com/github/udlbook/udlbook/blob/main/Notebooks/Chap11/11_2_Residual_Networks.ipynb\" target=\"_parent\"><img src=\"https://colab.research.google.com/assets/colab-badge.svg\" alt=\"Open In Colab\"/></a>"
      ]
    },
    {
      "cell_type": "markdown",
      "source": [
        "# **Notebook 11.2: Residual Networks**\n",
        "\n",
        "This notebook adapts the networks for MNIST1D to use residual connections.\n",
        "\n",
        "Work through the cells below, running each cell in turn. In various places you will see the words \"TO DO\". Follow the instructions at these places and make predictions about what is going to happen or write code to complete the functions.\n",
        "\n",
        "Contact me at udlbookmail@gmail.com if you find any mistakes or have any suggestions.\n",
        "\n"
      ],
      "metadata": {
        "id": "t9vk9Elugvmi"
      }
    },
    {
      "cell_type": "code",
      "source": [
        "# Run this if you're in a Colab to install MNIST 1D repository\n",
        "!pip install git+https://github.com/greydanus/mnist1d"
      ],
      "metadata": {
        "id": "D5yLObtZCi9J",
        "colab": {
          "base_uri": "https://localhost:8080/"
        },
        "outputId": "32925864-5d6a-4063-819c-21761d099c56"
      },
      "execution_count": 1,
      "outputs": [
        {
          "output_type": "stream",
          "name": "stdout",
          "text": [
            "Collecting git+https://github.com/greydanus/mnist1d\n",
            "  Cloning https://github.com/greydanus/mnist1d to /tmp/pip-req-build-hf6bj6p0\n",
            "  Running command git clone --filter=blob:none --quiet https://github.com/greydanus/mnist1d /tmp/pip-req-build-hf6bj6p0\n",
            "  Resolved https://github.com/greydanus/mnist1d to commit 350929d12f4c9a4b7355e0c96604e41b9239bdb4\n",
            "  Installing build dependencies ... \u001b[?25l\u001b[?25hdone\n",
            "  Getting requirements to build wheel ... \u001b[?25l\u001b[?25hdone\n",
            "  Preparing metadata (pyproject.toml) ... \u001b[?25l\u001b[?25hdone\n",
            "Requirement already satisfied: requests in /usr/local/lib/python3.10/dist-packages (from mnist1d==0.0.2.post9) (2.32.3)\n",
            "Requirement already satisfied: numpy in /usr/local/lib/python3.10/dist-packages (from mnist1d==0.0.2.post9) (1.26.4)\n",
            "Requirement already satisfied: matplotlib in /usr/local/lib/python3.10/dist-packages (from mnist1d==0.0.2.post9) (3.7.1)\n",
            "Requirement already satisfied: scipy in /usr/local/lib/python3.10/dist-packages (from mnist1d==0.0.2.post9) (1.13.1)\n",
            "Requirement already satisfied: contourpy>=1.0.1 in /usr/local/lib/python3.10/dist-packages (from matplotlib->mnist1d==0.0.2.post9) (1.2.1)\n",
            "Requirement already satisfied: cycler>=0.10 in /usr/local/lib/python3.10/dist-packages (from matplotlib->mnist1d==0.0.2.post9) (0.12.1)\n",
            "Requirement already satisfied: fonttools>=4.22.0 in /usr/local/lib/python3.10/dist-packages (from matplotlib->mnist1d==0.0.2.post9) (4.53.1)\n",
            "Requirement already satisfied: kiwisolver>=1.0.1 in /usr/local/lib/python3.10/dist-packages (from matplotlib->mnist1d==0.0.2.post9) (1.4.5)\n",
            "Requirement already satisfied: packaging>=20.0 in /usr/local/lib/python3.10/dist-packages (from matplotlib->mnist1d==0.0.2.post9) (24.1)\n",
            "Requirement already satisfied: pillow>=6.2.0 in /usr/local/lib/python3.10/dist-packages (from matplotlib->mnist1d==0.0.2.post9) (9.4.0)\n",
            "Requirement already satisfied: pyparsing>=2.3.1 in /usr/local/lib/python3.10/dist-packages (from matplotlib->mnist1d==0.0.2.post9) (3.1.2)\n",
            "Requirement already satisfied: python-dateutil>=2.7 in /usr/local/lib/python3.10/dist-packages (from matplotlib->mnist1d==0.0.2.post9) (2.8.2)\n",
            "Requirement already satisfied: charset-normalizer<4,>=2 in /usr/local/lib/python3.10/dist-packages (from requests->mnist1d==0.0.2.post9) (3.3.2)\n",
            "Requirement already satisfied: idna<4,>=2.5 in /usr/local/lib/python3.10/dist-packages (from requests->mnist1d==0.0.2.post9) (3.7)\n",
            "Requirement already satisfied: urllib3<3,>=1.21.1 in /usr/local/lib/python3.10/dist-packages (from requests->mnist1d==0.0.2.post9) (2.0.7)\n",
            "Requirement already satisfied: certifi>=2017.4.17 in /usr/local/lib/python3.10/dist-packages (from requests->mnist1d==0.0.2.post9) (2024.7.4)\n",
            "Requirement already satisfied: six>=1.5 in /usr/local/lib/python3.10/dist-packages (from python-dateutil>=2.7->matplotlib->mnist1d==0.0.2.post9) (1.16.0)\n",
            "Building wheels for collected packages: mnist1d\n",
            "  Building wheel for mnist1d (pyproject.toml) ... \u001b[?25l\u001b[?25hdone\n",
            "  Created wheel for mnist1d: filename=mnist1d-0.0.2.post9-py3-none-any.whl size=14496 sha256=cce498ae2e0638be7707cb8402d750e1679e5e5ff59e05681baec9774d8f3d99\n",
            "  Stored in directory: /tmp/pip-ephem-wheel-cache-09f7d9ln/wheels/41/95/55/45fcf7d38cfa97e35682da6c5017d4513729131326ce935371\n",
            "Successfully built mnist1d\n",
            "Installing collected packages: mnist1d\n",
            "Successfully installed mnist1d-0.0.2.post9\n"
          ]
        }
      ]
    },
    {
      "cell_type": "code",
      "source": [
        "import numpy as np\n",
        "import os\n",
        "import torch, torch.nn as nn\n",
        "from torch.utils.data import TensorDataset, DataLoader\n",
        "from torch.optim.lr_scheduler import StepLR\n",
        "import matplotlib.pyplot as plt\n",
        "import mnist1d\n",
        "import random"
      ],
      "metadata": {
        "id": "YrXWAH7sUWvU"
      },
      "execution_count": 2,
      "outputs": []
    },
    {
      "cell_type": "code",
      "source": [
        "args = mnist1d.data.get_dataset_args()\n",
        "data = mnist1d.data.get_dataset(args, path='./mnist1d_data.pkl', download=False, regenerate=False)\n",
        "\n",
        "# The training and test input and outputs are in\n",
        "# data['x'], data['y'], data['x_test'], and data['y_test']\n",
        "print(\"Examples in training set: {}\".format(len(data['y'])))\n",
        "print(\"Examples in test set: {}\".format(len(data['y_test'])))\n",
        "print(\"Length of each example: {}\".format(data['x'].shape[-1]))"
      ],
      "metadata": {
        "id": "twI72ZCrCt5z",
        "colab": {
          "base_uri": "https://localhost:8080/"
        },
        "outputId": "8a5315ce-77a7-492c-ef81-38f4a87f1d44"
      },
      "execution_count": 3,
      "outputs": [
        {
          "output_type": "stream",
          "name": "stdout",
          "text": [
            "Did or could not load data from ./mnist1d_data.pkl. Rebuilding dataset...\n",
            "Examples in training set: 4000\n",
            "Examples in test set: 1000\n",
            "Length of each example: 40\n"
          ]
        }
      ]
    },
    {
      "cell_type": "code",
      "source": [
        "# Load in the data\n",
        "train_data_x = data['x'].transpose()\n",
        "train_data_y = data['y']\n",
        "val_data_x = data['x_test'].transpose()\n",
        "val_data_y = data['y_test']\n",
        "# Print out sizes\n",
        "print(\"Train data: %d examples (columns), each of which has %d dimensions (rows)\"%((train_data_x.shape[1],train_data_x.shape[0])))\n",
        "print(\"Validation data: %d examples (columns), each of which has %d dimensions (rows)\"%((val_data_x.shape[1],val_data_x.shape[0])))"
      ],
      "metadata": {
        "id": "8bKADvLHbiV5",
        "colab": {
          "base_uri": "https://localhost:8080/"
        },
        "outputId": "77188f7a-2668-4d13-f431-17f5becd71ea"
      },
      "execution_count": 4,
      "outputs": [
        {
          "output_type": "stream",
          "name": "stdout",
          "text": [
            "Train data: 4000 examples (columns), each of which has 40 dimensions (rows)\n",
            "Validation data: 1000 examples (columns), each of which has 40 dimensions (rows)\n"
          ]
        }
      ]
    },
    {
      "cell_type": "markdown",
      "source": [
        "Define the network"
      ],
      "metadata": {
        "id": "_sFvRDGrl4qe"
      }
    },
    {
      "cell_type": "code",
      "source": [
        "# There are 40 input dimensions and 10 output dimensions for this data\n",
        "# The inputs correspond to the 40 offsets in the MNIST1D template.\n",
        "D_i = 40\n",
        "# The outputs correspond to the 10 digits\n",
        "D_o = 10\n",
        "\n",
        "\n",
        "# We will adapt this model to have residual connections around the linear layers\n",
        "# This is the same model we used in practical 8.1, but we can't use the sequential\n",
        "# class for residual networks (which aren't strictly sequential).  Hence, I've rewritten\n",
        "# it as a model that inherits from a base class\n",
        "\n",
        "class ResidualNetwork(torch.nn.Module):\n",
        "  def __init__(self, input_size, output_size, hidden_size=100):\n",
        "    super(ResidualNetwork, self).__init__()\n",
        "    self.linear1 = nn.Linear(input_size, hidden_size)\n",
        "    self.linear2 = nn.Linear(hidden_size, hidden_size)\n",
        "    self.linear3 = nn.Linear(hidden_size, hidden_size)\n",
        "    self.linear4 = nn.Linear(hidden_size, output_size)\n",
        "    print(\"Initialized MLPBase model with {} parameters\".format(self.count_params()))\n",
        "\n",
        "  def count_params(self):\n",
        "    return sum([p.view(-1).shape[0] for p in self.parameters()])\n",
        "\n",
        "# TODO -- Add residual connections to this model\n",
        "# The order of operations within each block should similar to figure 11.5b\n",
        "# ie., linear1 first, ReLU+linear2 in first residual block, ReLU+linear3 in second residual block), linear4 at end\n",
        "# Replace this function\n",
        "  def forward(self, x):\n",
        "    h1 = self.linear1(x).relu()\n",
        "    h2 = self.linear2(h1).relu() + h1\n",
        "    h3 = self.linear3(h2).relu() + h2\n",
        "    return self.linear4(h3)\n"
      ],
      "metadata": {
        "id": "FslroPJJffrh"
      },
      "execution_count": 6,
      "outputs": []
    },
    {
      "cell_type": "code",
      "source": [
        "# He initialization of weights\n",
        "def weights_init(layer_in):\n",
        "  if isinstance(layer_in, nn.Linear):\n",
        "    nn.init.kaiming_uniform_(layer_in.weight)\n",
        "    layer_in.bias.data.fill_(0.0)"
      ],
      "metadata": {
        "id": "YgLaex1pfhqz"
      },
      "execution_count": 7,
      "outputs": []
    },
    {
      "cell_type": "code",
      "source": [
        "#Define the model\n",
        "model = ResidualNetwork(40, 10)\n",
        "\n",
        "# choose cross entropy loss function (equation 5.24 in the loss notes)\n",
        "loss_function = nn.CrossEntropyLoss()\n",
        "# construct SGD optimizer and initialize learning rate and momentum\n",
        "optimizer = torch.optim.SGD(model.parameters(), lr = 0.05, momentum=0.9)\n",
        "# object that decreases learning rate by half every 20 epochs\n",
        "scheduler = StepLR(optimizer, step_size=20, gamma=0.5)\n",
        "# convert data to torch tensors\n",
        "x_train = torch.tensor(train_data_x.transpose().astype('float32'))\n",
        "y_train = torch.tensor(train_data_y.astype('long'))\n",
        "x_val= torch.tensor(val_data_x.transpose().astype('float32'))\n",
        "y_val = torch.tensor(val_data_y.astype('long'))\n",
        "\n",
        "# load the data into a class that creates the batches\n",
        "data_loader = DataLoader(TensorDataset(x_train,y_train), batch_size=100, shuffle=True, worker_init_fn=np.random.seed(1))\n",
        "\n",
        "# Initialize model weights\n",
        "model.apply(weights_init)\n",
        "\n",
        "# loop over the dataset n_epoch times\n",
        "n_epoch = 100\n",
        "# store the loss and the % correct at each epoch\n",
        "losses_train = np.zeros((n_epoch))\n",
        "errors_train = np.zeros((n_epoch))\n",
        "losses_val = np.zeros((n_epoch))\n",
        "errors_val = np.zeros((n_epoch))\n",
        "\n",
        "for epoch in range(n_epoch):\n",
        "  # loop over batches\n",
        "  for i, data in enumerate(data_loader):\n",
        "    # retrieve inputs and labels for this batch\n",
        "    x_batch, y_batch = data\n",
        "    # zero the parameter gradients\n",
        "    optimizer.zero_grad()\n",
        "    # forward pass -- calculate model output\n",
        "    pred = model(x_batch)\n",
        "    # compute the loss\n",
        "    loss = loss_function(pred, y_batch)\n",
        "    # backward pass\n",
        "    loss.backward()\n",
        "    # SGD update\n",
        "    optimizer.step()\n",
        "\n",
        "  # Run whole dataset to get statistics -- normally wouldn't do this\n",
        "  pred_train = model(x_train)\n",
        "  pred_val = model(x_val)\n",
        "  _, predicted_train_class = torch.max(pred_train.data, 1)\n",
        "  _, predicted_val_class = torch.max(pred_val.data, 1)\n",
        "  errors_train[epoch] = 100 - 100 * (predicted_train_class == y_train).float().sum() / len(y_train)\n",
        "  errors_val[epoch]= 100 - 100 * (predicted_val_class == y_val).float().sum() / len(y_val)\n",
        "  losses_train[epoch] = loss_function(pred_train, y_train).item()\n",
        "  losses_val[epoch]= loss_function(pred_val, y_val).item()\n",
        "  print(f'Epoch {epoch:5d}, train loss {losses_train[epoch]:.6f}, train error {errors_train[epoch]:3.2f},  val loss {losses_val[epoch]:.6f}, percent error {errors_val[epoch]:3.2f}')\n",
        "\n",
        "  # tell scheduler to consider updating learning rate\n",
        "  scheduler.step()"
      ],
      "metadata": {
        "id": "NYw8I_3mmX5c",
        "colab": {
          "base_uri": "https://localhost:8080/"
        },
        "outputId": "56a512d3-5cd2-4506-9a1e-f911b7a35ebf"
      },
      "execution_count": 19,
      "outputs": [
        {
          "output_type": "stream",
          "name": "stdout",
          "text": [
            "Initialized MLPBase model with 25310 parameters\n",
            "Epoch     0, train loss 1.568171, train error 61.08,  val loss 1.651296, percent error 67.10\n",
            "Epoch     1, train loss 1.318131, train error 51.47,  val loss 1.462336, percent error 58.60\n",
            "Epoch     2, train loss 1.095836, train error 40.65,  val loss 1.287549, percent error 51.00\n",
            "Epoch     3, train loss 0.942000, train error 34.43,  val loss 1.208664, percent error 48.50\n",
            "Epoch     4, train loss 0.835916, train error 30.85,  val loss 1.141558, percent error 42.70\n",
            "Epoch     5, train loss 0.766706, train error 27.15,  val loss 1.203788, percent error 44.20\n",
            "Epoch     6, train loss 0.665145, train error 24.57,  val loss 1.171808, percent error 44.00\n",
            "Epoch     7, train loss 0.589317, train error 20.65,  val loss 1.158650, percent error 41.80\n",
            "Epoch     8, train loss 0.504203, train error 16.93,  val loss 1.100359, percent error 39.70\n",
            "Epoch     9, train loss 0.462976, train error 16.85,  val loss 1.203191, percent error 40.50\n",
            "Epoch    10, train loss 0.377643, train error 12.40,  val loss 1.191592, percent error 39.70\n",
            "Epoch    11, train loss 0.340455, train error 11.65,  val loss 1.193680, percent error 38.90\n",
            "Epoch    12, train loss 0.263156, train error 8.22,  val loss 1.215863, percent error 37.80\n",
            "Epoch    13, train loss 0.261461, train error 8.00,  val loss 1.391266, percent error 40.00\n",
            "Epoch    14, train loss 0.223983, train error 6.97,  val loss 1.359081, percent error 39.00\n",
            "Epoch    15, train loss 0.202566, train error 6.38,  val loss 1.457945, percent error 41.40\n",
            "Epoch    16, train loss 0.173710, train error 5.78,  val loss 1.467146, percent error 39.50\n",
            "Epoch    17, train loss 0.159850, train error 5.18,  val loss 1.583876, percent error 38.70\n",
            "Epoch    18, train loss 0.144892, train error 4.60,  val loss 1.567306, percent error 39.70\n",
            "Epoch    19, train loss 0.100333, train error 2.88,  val loss 1.563114, percent error 37.40\n",
            "Epoch    20, train loss 0.041978, train error 0.35,  val loss 1.446116, percent error 37.10\n",
            "Epoch    21, train loss 0.025241, train error 0.03,  val loss 1.484402, percent error 37.50\n",
            "Epoch    22, train loss 0.019472, train error 0.03,  val loss 1.521330, percent error 37.20\n",
            "Epoch    23, train loss 0.016120, train error 0.00,  val loss 1.545051, percent error 36.70\n",
            "Epoch    24, train loss 0.013912, train error 0.00,  val loss 1.565784, percent error 37.20\n",
            "Epoch    25, train loss 0.012545, train error 0.00,  val loss 1.591812, percent error 37.00\n",
            "Epoch    26, train loss 0.011333, train error 0.00,  val loss 1.602264, percent error 36.70\n",
            "Epoch    27, train loss 0.010539, train error 0.00,  val loss 1.625431, percent error 36.50\n",
            "Epoch    28, train loss 0.009583, train error 0.00,  val loss 1.642048, percent error 36.70\n",
            "Epoch    29, train loss 0.008899, train error 0.00,  val loss 1.656362, percent error 36.70\n",
            "Epoch    30, train loss 0.008327, train error 0.00,  val loss 1.668888, percent error 36.90\n",
            "Epoch    31, train loss 0.007812, train error 0.00,  val loss 1.685101, percent error 36.60\n",
            "Epoch    32, train loss 0.007359, train error 0.00,  val loss 1.694363, percent error 36.50\n",
            "Epoch    33, train loss 0.006948, train error 0.00,  val loss 1.707760, percent error 36.40\n",
            "Epoch    34, train loss 0.006581, train error 0.00,  val loss 1.723865, percent error 36.60\n",
            "Epoch    35, train loss 0.006269, train error 0.00,  val loss 1.735589, percent error 37.00\n",
            "Epoch    36, train loss 0.006011, train error 0.00,  val loss 1.744303, percent error 36.30\n",
            "Epoch    37, train loss 0.005688, train error 0.00,  val loss 1.755311, percent error 36.70\n",
            "Epoch    38, train loss 0.005437, train error 0.00,  val loss 1.767423, percent error 36.90\n",
            "Epoch    39, train loss 0.005234, train error 0.00,  val loss 1.772600, percent error 36.90\n",
            "Epoch    40, train loss 0.005101, train error 0.00,  val loss 1.780760, percent error 36.90\n",
            "Epoch    41, train loss 0.004997, train error 0.00,  val loss 1.785177, percent error 37.00\n",
            "Epoch    42, train loss 0.004900, train error 0.00,  val loss 1.791056, percent error 37.10\n",
            "Epoch    43, train loss 0.004804, train error 0.00,  val loss 1.795622, percent error 37.20\n",
            "Epoch    44, train loss 0.004713, train error 0.00,  val loss 1.799742, percent error 36.90\n",
            "Epoch    45, train loss 0.004628, train error 0.00,  val loss 1.803898, percent error 37.00\n",
            "Epoch    46, train loss 0.004546, train error 0.00,  val loss 1.808319, percent error 37.20\n",
            "Epoch    47, train loss 0.004473, train error 0.00,  val loss 1.812487, percent error 37.10\n",
            "Epoch    48, train loss 0.004390, train error 0.00,  val loss 1.816452, percent error 37.00\n",
            "Epoch    49, train loss 0.004312, train error 0.00,  val loss 1.821334, percent error 37.10\n",
            "Epoch    50, train loss 0.004241, train error 0.00,  val loss 1.825624, percent error 37.10\n",
            "Epoch    51, train loss 0.004175, train error 0.00,  val loss 1.829155, percent error 37.30\n",
            "Epoch    52, train loss 0.004102, train error 0.00,  val loss 1.833349, percent error 37.00\n",
            "Epoch    53, train loss 0.004037, train error 0.00,  val loss 1.837189, percent error 37.10\n",
            "Epoch    54, train loss 0.003973, train error 0.00,  val loss 1.840523, percent error 37.00\n",
            "Epoch    55, train loss 0.003915, train error 0.00,  val loss 1.844746, percent error 37.00\n",
            "Epoch    56, train loss 0.003850, train error 0.00,  val loss 1.848227, percent error 37.20\n",
            "Epoch    57, train loss 0.003792, train error 0.00,  val loss 1.852194, percent error 37.10\n",
            "Epoch    58, train loss 0.003734, train error 0.00,  val loss 1.856856, percent error 37.20\n",
            "Epoch    59, train loss 0.003679, train error 0.00,  val loss 1.859511, percent error 37.40\n",
            "Epoch    60, train loss 0.003650, train error 0.00,  val loss 1.860828, percent error 37.10\n",
            "Epoch    61, train loss 0.003624, train error 0.00,  val loss 1.862685, percent error 37.20\n",
            "Epoch    62, train loss 0.003598, train error 0.00,  val loss 1.865574, percent error 37.30\n",
            "Epoch    63, train loss 0.003573, train error 0.00,  val loss 1.867199, percent error 37.30\n",
            "Epoch    64, train loss 0.003547, train error 0.00,  val loss 1.868298, percent error 37.40\n",
            "Epoch    65, train loss 0.003522, train error 0.00,  val loss 1.870613, percent error 37.30\n",
            "Epoch    66, train loss 0.003497, train error 0.00,  val loss 1.872619, percent error 37.30\n",
            "Epoch    67, train loss 0.003473, train error 0.00,  val loss 1.874361, percent error 37.50\n",
            "Epoch    68, train loss 0.003449, train error 0.00,  val loss 1.875260, percent error 37.40\n",
            "Epoch    69, train loss 0.003425, train error 0.00,  val loss 1.877581, percent error 37.30\n",
            "Epoch    70, train loss 0.003402, train error 0.00,  val loss 1.878872, percent error 37.40\n",
            "Epoch    71, train loss 0.003379, train error 0.00,  val loss 1.880936, percent error 37.60\n",
            "Epoch    72, train loss 0.003356, train error 0.00,  val loss 1.882361, percent error 37.30\n",
            "Epoch    73, train loss 0.003334, train error 0.00,  val loss 1.883937, percent error 37.30\n",
            "Epoch    74, train loss 0.003311, train error 0.00,  val loss 1.885819, percent error 37.40\n",
            "Epoch    75, train loss 0.003290, train error 0.00,  val loss 1.887723, percent error 37.50\n",
            "Epoch    76, train loss 0.003268, train error 0.00,  val loss 1.888700, percent error 37.50\n",
            "Epoch    77, train loss 0.003246, train error 0.00,  val loss 1.890707, percent error 37.50\n",
            "Epoch    78, train loss 0.003226, train error 0.00,  val loss 1.891372, percent error 37.30\n",
            "Epoch    79, train loss 0.003205, train error 0.00,  val loss 1.893649, percent error 37.60\n",
            "Epoch    80, train loss 0.003194, train error 0.00,  val loss 1.894747, percent error 37.50\n",
            "Epoch    81, train loss 0.003184, train error 0.00,  val loss 1.895115, percent error 37.40\n",
            "Epoch    82, train loss 0.003173, train error 0.00,  val loss 1.896004, percent error 37.40\n",
            "Epoch    83, train loss 0.003163, train error 0.00,  val loss 1.896633, percent error 37.40\n",
            "Epoch    84, train loss 0.003153, train error 0.00,  val loss 1.897737, percent error 37.50\n",
            "Epoch    85, train loss 0.003143, train error 0.00,  val loss 1.898120, percent error 37.50\n",
            "Epoch    86, train loss 0.003133, train error 0.00,  val loss 1.899058, percent error 37.40\n",
            "Epoch    87, train loss 0.003123, train error 0.00,  val loss 1.900048, percent error 37.50\n",
            "Epoch    88, train loss 0.003113, train error 0.00,  val loss 1.900484, percent error 37.50\n",
            "Epoch    89, train loss 0.003104, train error 0.00,  val loss 1.901520, percent error 37.40\n",
            "Epoch    90, train loss 0.003094, train error 0.00,  val loss 1.902230, percent error 37.50\n",
            "Epoch    91, train loss 0.003085, train error 0.00,  val loss 1.902957, percent error 37.40\n",
            "Epoch    92, train loss 0.003075, train error 0.00,  val loss 1.903671, percent error 37.50\n",
            "Epoch    93, train loss 0.003066, train error 0.00,  val loss 1.904752, percent error 37.60\n",
            "Epoch    94, train loss 0.003056, train error 0.00,  val loss 1.905110, percent error 37.50\n",
            "Epoch    95, train loss 0.003047, train error 0.00,  val loss 1.905889, percent error 37.60\n",
            "Epoch    96, train loss 0.003037, train error 0.00,  val loss 1.906953, percent error 37.50\n",
            "Epoch    97, train loss 0.003028, train error 0.00,  val loss 1.907483, percent error 37.60\n",
            "Epoch    98, train loss 0.003019, train error 0.00,  val loss 1.908555, percent error 37.60\n",
            "Epoch    99, train loss 0.003010, train error 0.00,  val loss 1.908980, percent error 37.60\n"
          ]
        }
      ]
    },
    {
      "cell_type": "code",
      "source": [
        "# Plot the results\n",
        "fig, ax = plt.subplots()\n",
        "ax.plot(errors_train,'r-',label='train')\n",
        "ax.plot(errors_val,'b-',label='test')\n",
        "ax.set_ylim(0,100); ax.set_xlim(0,n_epoch)\n",
        "ax.set_xlabel('Epoch'); ax.set_ylabel('Error')\n",
        "ax.set_title('TrainError %3.2f, Val Error %3.2f'%(errors_train[-1],errors_val[-1]))\n",
        "ax.legend()\n",
        "plt.show()"
      ],
      "metadata": {
        "id": "CcP_VyEmE2sv",
        "colab": {
          "base_uri": "https://localhost:8080/",
          "height": 472
        },
        "outputId": "a63547a0-dcd4-427f-97be-249ecc61c4d8"
      },
      "execution_count": 20,
      "outputs": [
        {
          "output_type": "display_data",
          "data": {
            "text/plain": [
              "<Figure size 640x480 with 1 Axes>"
            ],
            "image/png": "[encoded data removed]"
          },
          "metadata": {}
        }
      ]
    },
    {
      "cell_type": "markdown",
      "source": [
        "The primary motivation of residual networks is to allow training of much deeper networks.   \n",
        "\n",
        "TODO: Try running this network with and without the residual connections.  Does adding the residual connections change the performance?"
      ],
      "metadata": {
        "id": "wMmqhmxuAx0M"
      }
    },
    {
      "cell_type": "code",
      "source": [
        "#non residual\n",
        "class notResidualNetwork(torch.nn.Module):\n",
        "  def __init__(self, input_size, output_size, hidden_size=100):\n",
        "    super(notResidualNetwork, self).__init__()\n",
        "    self.linear1 = nn.Linear(input_size, hidden_size)\n",
        "    self.linear2 = nn.Linear(hidden_size, hidden_size)\n",
        "    self.linear3 = nn.Linear(hidden_size, hidden_size)\n",
        "    self.linear4 = nn.Linear(hidden_size, output_size)\n",
        "    print(\"Initialized MLPBase model with {} parameters\".format(self.count_params()))\n",
        "\n",
        "  def count_params(self):\n",
        "    return sum([p.view(-1).shape[0] for p in self.parameters()])\n",
        "\n",
        "# TODO -- Add residual connections to this model\n",
        "# The order of operations within each block should similar to figure 11.5b\n",
        "# ie., linear1 first, ReLU+linear2 in first residual block, ReLU+linear3 in second residual block), linear4 at end\n",
        "# Replace this function\n",
        "  def forward(self, x):\n",
        "    h1 = self.linear1(x).relu()\n",
        "    h2 = self.linear2(h1).relu()\n",
        "    h3 = self.linear3(h2).relu()\n",
        "    return self.linear4(h3)"
      ],
      "metadata": {
        "id": "oZaOCLwLiA9n"
      },
      "execution_count": 14,
      "outputs": []
    },
    {
      "cell_type": "code",
      "source": [
        "# He initialization of weights\n",
        "def weights_init(layer_in):\n",
        "  if isinstance(layer_in, nn.Linear):\n",
        "    nn.init.kaiming_uniform_(layer_in.weight)\n",
        "    layer_in.bias.data.fill_(0.0)"
      ],
      "metadata": {
        "id": "LIdSWPGJiKG_"
      },
      "execution_count": 27,
      "outputs": []
    },
    {
      "cell_type": "code",
      "source": [
        "#Define the model\n",
        "model = notResidualNetwork(40, 10)\n",
        "\n",
        "# choose cross entropy loss function (equation 5.24 in the loss notes)\n",
        "loss_function = nn.CrossEntropyLoss()\n",
        "# construct SGD optimizer and initialize learning rate and momentum\n",
        "optimizer = torch.optim.SGD(model.parameters(), lr = 0.05, momentum=0.9)\n",
        "# object that decreases learning rate by half every 20 epochs\n",
        "scheduler = StepLR(optimizer, step_size=20, gamma=0.5)\n",
        "# convert data to torch tensors\n",
        "x_train = torch.tensor(train_data_x.transpose().astype('float32'))\n",
        "y_train = torch.tensor(train_data_y.astype('long'))\n",
        "x_val= torch.tensor(val_data_x.transpose().astype('float32'))\n",
        "y_val = torch.tensor(val_data_y.astype('long'))\n",
        "\n",
        "# load the data into a class that creates the batches\n",
        "data_loader = DataLoader(TensorDataset(x_train,y_train), batch_size=100, shuffle=True, worker_init_fn=np.random.seed(1))\n",
        "\n",
        "# Initialize model weights\n",
        "model.apply(weights_init)\n",
        "\n",
        "# loop over the dataset n_epoch times\n",
        "n_epoch = 100\n",
        "# store the loss and the % correct at each epoch\n",
        "losses_train_1 = np.zeros((n_epoch))\n",
        "errors_train_1 = np.zeros((n_epoch))\n",
        "losses_val_1 = np.zeros((n_epoch))\n",
        "errors_val_1 = np.zeros((n_epoch))\n",
        "\n",
        "for epoch in range(n_epoch):\n",
        "  # loop over batches\n",
        "  for i, data in enumerate(data_loader):\n",
        "    # retrieve inputs and labels for this batch\n",
        "    x_batch, y_batch = data\n",
        "    # zero the parameter gradients\n",
        "    optimizer.zero_grad()\n",
        "    # forward pass -- calculate model output\n",
        "    pred = model(x_batch)\n",
        "    # compute the loss\n",
        "    loss = loss_function(pred, y_batch)\n",
        "    # backward pass\n",
        "    loss.backward()\n",
        "    # SGD update\n",
        "    optimizer.step()\n",
        "\n",
        "  # Run whole dataset to get statistics -- normally wouldn't do this\n",
        "  pred_train_1 = model(x_train)\n",
        "  pred_val_1 = model(x_val)\n",
        "  _, predicted_train_class = torch.max(pred_train_1.data, 1)\n",
        "  _, predicted_val_class = torch.max(pred_val_1.data, 1)\n",
        "  errors_train_1[epoch] = 100 - 100 * (predicted_train_class == y_train).float().sum() / len(y_train)\n",
        "  errors_val_1[epoch]= 100 - 100 * (predicted_val_class == y_val).float().sum() / len(y_val)\n",
        "  losses_train_1[epoch] = loss_function(pred_train, y_train).item()\n",
        "  losses_val_1[epoch]= loss_function(pred_val_1, y_val).item()\n",
        "  print(f'Epoch {epoch:5d}, train loss {losses_train_1[epoch]:.6f}, train error {errors_train_1[epoch]:3.2f},  val loss {losses_val_1[epoch]:.6f}, percent error {errors_val_1[epoch]:3.2f}')\n",
        "\n",
        "  # tell scheduler to consider updating learning rate\n",
        "  scheduler.step()"
      ],
      "metadata": {
        "colab": {
          "base_uri": "https://localhost:8080/"
        },
        "id": "6vpXkTC7iGnO",
        "outputId": "8a936ecf-6de2-4e0b-a7c6-c8585ac5830e"
      },
      "execution_count": 29,
      "outputs": [
        {
          "output_type": "stream",
          "name": "stdout",
          "text": [
            "Initialized MLPBase model with 25310 parameters\n",
            "Epoch     0, train loss 0.003010, train error 65.15,  val loss 1.708194, percent error 69.80\n",
            "Epoch     1, train loss 0.003010, train error 54.00,  val loss 1.530153, percent error 60.40\n",
            "Epoch     2, train loss 0.003010, train error 40.28,  val loss 1.314910, percent error 52.30\n",
            "Epoch     3, train loss 0.003010, train error 38.90,  val loss 1.302867, percent error 49.90\n",
            "Epoch     4, train loss 0.003010, train error 29.65,  val loss 1.165099, percent error 45.70\n",
            "Epoch     5, train loss 0.003010, train error 27.60,  val loss 1.162624, percent error 44.00\n",
            "Epoch     6, train loss 0.003010, train error 22.25,  val loss 1.124139, percent error 42.90\n",
            "Epoch     7, train loss 0.003010, train error 24.57,  val loss 1.166837, percent error 43.00\n",
            "Epoch     8, train loss 0.003010, train error 15.90,  val loss 1.043535, percent error 37.70\n",
            "Epoch     9, train loss 0.003010, train error 14.28,  val loss 1.141801, percent error 40.00\n",
            "Epoch    10, train loss 0.003010, train error 15.03,  val loss 1.213867, percent error 39.30\n",
            "Epoch    11, train loss 0.003010, train error 11.25,  val loss 1.212392, percent error 38.00\n",
            "Epoch    12, train loss 0.003010, train error 10.32,  val loss 1.223350, percent error 38.80\n",
            "Epoch    13, train loss 0.003010, train error 7.28,  val loss 1.205746, percent error 38.10\n",
            "Epoch    14, train loss 0.003010, train error 5.62,  val loss 1.360297, percent error 36.80\n",
            "Epoch    15, train loss 0.003010, train error 7.05,  val loss 1.418344, percent error 38.20\n",
            "Epoch    16, train loss 0.003010, train error 6.28,  val loss 1.390272, percent error 37.00\n",
            "Epoch    17, train loss 0.003010, train error 5.43,  val loss 1.521671, percent error 38.00\n",
            "Epoch    18, train loss 0.003010, train error 7.43,  val loss 1.625209, percent error 38.70\n",
            "Epoch    19, train loss 0.003010, train error 4.65,  val loss 1.514792, percent error 35.90\n",
            "Epoch    20, train loss 0.003010, train error 0.45,  val loss 1.355020, percent error 33.50\n",
            "Epoch    21, train loss 0.003010, train error 0.00,  val loss 1.385946, percent error 32.00\n",
            "Epoch    22, train loss 0.003010, train error 0.00,  val loss 1.421982, percent error 32.80\n",
            "Epoch    23, train loss 0.003010, train error 0.00,  val loss 1.454359, percent error 32.70\n",
            "Epoch    24, train loss 0.003010, train error 0.00,  val loss 1.488887, percent error 32.90\n",
            "Epoch    25, train loss 0.003010, train error 0.00,  val loss 1.519349, percent error 32.60\n",
            "Epoch    26, train loss 0.003010, train error 0.00,  val loss 1.539694, percent error 32.20\n",
            "Epoch    27, train loss 0.003010, train error 0.00,  val loss 1.567439, percent error 32.80\n",
            "Epoch    28, train loss 0.003010, train error 0.00,  val loss 1.579999, percent error 33.20\n",
            "Epoch    29, train loss 0.003010, train error 0.00,  val loss 1.597829, percent error 32.80\n",
            "Epoch    30, train loss 0.003010, train error 0.00,  val loss 1.616312, percent error 33.00\n",
            "Epoch    31, train loss 0.003010, train error 0.00,  val loss 1.635575, percent error 32.90\n",
            "Epoch    32, train loss 0.003010, train error 0.00,  val loss 1.644589, percent error 33.00\n",
            "Epoch    33, train loss 0.003010, train error 0.00,  val loss 1.657360, percent error 32.70\n",
            "Epoch    34, train loss 0.003010, train error 0.00,  val loss 1.674460, percent error 32.90\n",
            "Epoch    35, train loss 0.003010, train error 0.00,  val loss 1.681513, percent error 32.80\n",
            "Epoch    36, train loss 0.003010, train error 0.00,  val loss 1.696122, percent error 32.70\n",
            "Epoch    37, train loss 0.003010, train error 0.00,  val loss 1.706276, percent error 32.70\n",
            "Epoch    38, train loss 0.003010, train error 0.00,  val loss 1.714407, percent error 32.90\n",
            "Epoch    39, train loss 0.003010, train error 0.00,  val loss 1.729597, percent error 32.90\n",
            "Epoch    40, train loss 0.003010, train error 0.00,  val loss 1.732331, percent error 32.80\n",
            "Epoch    41, train loss 0.003010, train error 0.00,  val loss 1.737700, percent error 32.90\n",
            "Epoch    42, train loss 0.003010, train error 0.00,  val loss 1.740913, percent error 32.70\n",
            "Epoch    43, train loss 0.003010, train error 0.00,  val loss 1.746168, percent error 32.90\n",
            "Epoch    44, train loss 0.003010, train error 0.00,  val loss 1.751217, percent error 32.90\n",
            "Epoch    45, train loss 0.003010, train error 0.00,  val loss 1.754726, percent error 33.00\n",
            "Epoch    46, train loss 0.003010, train error 0.00,  val loss 1.760426, percent error 32.90\n",
            "Epoch    47, train loss 0.003010, train error 0.00,  val loss 1.763884, percent error 32.80\n",
            "Epoch    48, train loss 0.003010, train error 0.00,  val loss 1.767129, percent error 33.10\n",
            "Epoch    49, train loss 0.003010, train error 0.00,  val loss 1.771949, percent error 33.10\n",
            "Epoch    50, train loss 0.003010, train error 0.00,  val loss 1.776117, percent error 33.10\n",
            "Epoch    51, train loss 0.003010, train error 0.00,  val loss 1.779374, percent error 33.10\n",
            "Epoch    52, train loss 0.003010, train error 0.00,  val loss 1.783376, percent error 33.10\n",
            "Epoch    53, train loss 0.003010, train error 0.00,  val loss 1.787478, percent error 33.10\n",
            "Epoch    54, train loss 0.003010, train error 0.00,  val loss 1.791656, percent error 33.10\n",
            "Epoch    55, train loss 0.003010, train error 0.00,  val loss 1.794299, percent error 33.00\n",
            "Epoch    56, train loss 0.003010, train error 0.00,  val loss 1.798962, percent error 33.10\n",
            "Epoch    57, train loss 0.003010, train error 0.00,  val loss 1.802209, percent error 33.00\n",
            "Epoch    58, train loss 0.003010, train error 0.00,  val loss 1.806611, percent error 33.10\n",
            "Epoch    59, train loss 0.003010, train error 0.00,  val loss 1.810167, percent error 33.00\n",
            "Epoch    60, train loss 0.003010, train error 0.00,  val loss 1.811423, percent error 33.00\n",
            "Epoch    61, train loss 0.003010, train error 0.00,  val loss 1.813862, percent error 33.00\n",
            "Epoch    62, train loss 0.003010, train error 0.00,  val loss 1.814588, percent error 33.00\n",
            "Epoch    63, train loss 0.003010, train error 0.00,  val loss 1.816836, percent error 33.00\n",
            "Epoch    64, train loss 0.003010, train error 0.00,  val loss 1.818461, percent error 32.80\n",
            "Epoch    65, train loss 0.003010, train error 0.00,  val loss 1.820071, percent error 33.00\n",
            "Epoch    66, train loss 0.003010, train error 0.00,  val loss 1.822068, percent error 32.90\n",
            "Epoch    67, train loss 0.003010, train error 0.00,  val loss 1.822754, percent error 32.90\n",
            "Epoch    68, train loss 0.003010, train error 0.00,  val loss 1.824886, percent error 32.90\n",
            "Epoch    69, train loss 0.003010, train error 0.00,  val loss 1.826752, percent error 33.00\n",
            "Epoch    70, train loss 0.003010, train error 0.00,  val loss 1.828114, percent error 33.00\n",
            "Epoch    71, train loss 0.003010, train error 0.00,  val loss 1.829772, percent error 33.10\n",
            "Epoch    72, train loss 0.003010, train error 0.00,  val loss 1.831592, percent error 33.00\n",
            "Epoch    73, train loss 0.003010, train error 0.00,  val loss 1.832822, percent error 33.10\n",
            "Epoch    74, train loss 0.003010, train error 0.00,  val loss 1.834335, percent error 33.00\n",
            "Epoch    75, train loss 0.003010, train error 0.00,  val loss 1.835708, percent error 33.10\n",
            "Epoch    76, train loss 0.003010, train error 0.00,  val loss 1.837632, percent error 33.10\n",
            "Epoch    77, train loss 0.003010, train error 0.00,  val loss 1.838959, percent error 33.10\n",
            "Epoch    78, train loss 0.003010, train error 0.00,  val loss 1.840646, percent error 33.00\n",
            "Epoch    79, train loss 0.003010, train error 0.00,  val loss 1.842063, percent error 33.10\n",
            "Epoch    80, train loss 0.003010, train error 0.00,  val loss 1.843230, percent error 33.10\n",
            "Epoch    81, train loss 0.003010, train error 0.00,  val loss 1.843752, percent error 33.10\n",
            "Epoch    82, train loss 0.003010, train error 0.00,  val loss 1.844463, percent error 33.00\n",
            "Epoch    83, train loss 0.003010, train error 0.00,  val loss 1.845347, percent error 33.10\n",
            "Epoch    84, train loss 0.003010, train error 0.00,  val loss 1.846193, percent error 33.00\n",
            "Epoch    85, train loss 0.003010, train error 0.00,  val loss 1.846841, percent error 33.10\n",
            "Epoch    86, train loss 0.003010, train error 0.00,  val loss 1.847519, percent error 33.10\n",
            "Epoch    87, train loss 0.003010, train error 0.00,  val loss 1.848405, percent error 33.10\n",
            "Epoch    88, train loss 0.003010, train error 0.00,  val loss 1.849030, percent error 33.10\n",
            "Epoch    89, train loss 0.003010, train error 0.00,  val loss 1.849934, percent error 33.10\n",
            "Epoch    90, train loss 0.003010, train error 0.00,  val loss 1.850664, percent error 33.10\n",
            "Epoch    91, train loss 0.003010, train error 0.00,  val loss 1.851612, percent error 33.10\n",
            "Epoch    92, train loss 0.003010, train error 0.00,  val loss 1.852157, percent error 33.10\n",
            "Epoch    93, train loss 0.003010, train error 0.00,  val loss 1.852772, percent error 33.10\n",
            "Epoch    94, train loss 0.003010, train error 0.00,  val loss 1.853749, percent error 33.10\n",
            "Epoch    95, train loss 0.003010, train error 0.00,  val loss 1.854262, percent error 33.10\n",
            "Epoch    96, train loss 0.003010, train error 0.00,  val loss 1.855109, percent error 33.10\n",
            "Epoch    97, train loss 0.003010, train error 0.00,  val loss 1.855863, percent error 33.10\n",
            "Epoch    98, train loss 0.003010, train error 0.00,  val loss 1.856494, percent error 33.10\n",
            "Epoch    99, train loss 0.003010, train error 0.00,  val loss 1.857148, percent error 33.10\n"
          ]
        }
      ]
    },
    {
      "cell_type": "code",
      "source": [
        "# Plot the results\n",
        "fig, ax = plt.subplots()\n",
        "ax.plot(errors_train,'r-',label='train residual')\n",
        "ax.plot(errors_val,'b-',label='test residual')\n",
        "ax.plot(errors_train_1,'y-',label='train non residual')\n",
        "ax.plot(errors_val_1,'g-',label='test no residual')\n",
        "ax.set_ylim(0,100); ax.set_xlim(0,n_epoch)\n",
        "ax.set_xlabel('Epoch'); ax.set_ylabel('Error')\n",
        "ax.set_title('TrainError %3.2f, Val Error %3.2f'%(errors_train[-1],errors_val[-1]))\n",
        "ax.legend()\n",
        "plt.show()"
      ],
      "metadata": {
        "colab": {
          "base_uri": "https://localhost:8080/",
          "height": 472
        },
        "id": "fJ07zlMNi22m",
        "outputId": "b0ce9643-5322-4870-d972-4678b8ffcdab"
      },
      "execution_count": 31,
      "outputs": [
        {
          "output_type": "display_data",
          "data": {
            "text/plain": [
              "<Figure size 640x480 with 1 Axes>"
            ],
            "image/png": "[encoded data removed]"
          },
          "metadata": {}
        }
      ]
    }
  ]
}